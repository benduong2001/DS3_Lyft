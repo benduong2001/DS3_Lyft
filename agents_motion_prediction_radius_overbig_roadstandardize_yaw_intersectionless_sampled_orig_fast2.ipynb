{
 "cells": [
  {
   "cell_type": "code",
   "execution_count": 1,
   "metadata": {},
   "outputs": [],
   "source": [
    "# Everything same as christmas model: onroad, clsutering + yaw, \n",
    "# but dbscan replaced with radius threshold to all, plus road standardization"
   ]
  },
  {
   "cell_type": "markdown",
   "metadata": {},
   "source": [
    "1. prepare the agent table first:\n",
    "   * remove off-road, \n",
    "   * add hostcar, \n",
    "   * remove big cars,\n",
    "   * enhance yaw by (19.8/2pi)\n",
    "   \n",
    "   * sampling optional\n",
    "2. For each frame in scene 0,\n",
    "   * cluster up each agent and their neighboring agents with a fixed radius threshold 20\n",
    "     by x, y, yaw\n",
    "   * each frame gets a list of clusters; clusters have no class objects for their own.\n",
    "   * remove cluster if agent close to a crosswalk polygon\n",
    "3. for each frame_clusters:\n",
    "   * in increments of 3\n",
    "   * for each cluster in the first frame cluster of the sequence (see note3)\n",
    "   * if their anchor track_id is still present in all other frame clusters in the sequence:\n",
    "   * if absent, drop them - round 1 of cluster filtering - \n",
    "   * if present, check if set_uniformity is above 0.5, if not, remove,\n",
    "   * return remaining cluster_sequences\n",
    "4. pivot, standardize\n",
    "   * pivot by x, y, YAW\n",
    "   * road_standardize x, y, yaw point at 0pi; remember to modulus the new YAW!\n",
    "   * cap and zeropad 20 track_ids\n",
    "6. partitions:\n",
    "   * increments of 4: 3 inputs, 1 output"
   ]
  },
  {
   "cell_type": "code",
   "execution_count": 2,
   "metadata": {},
   "outputs": [],
   "source": [
    "import pandas as pd\n",
    "import numpy as np\n",
    "import matplotlib.pyplot as plt\n",
    "\n",
    "folderpath = \"*\"\n",
    "folderpath = \"C:\\\\Users\\\\Benson\\\\Desktop\"\n",
    "file = folderpath + \"\\\\lyftlong\\\\rand_agents_table0_scene_3kind_onroadDiscrete.csv\"\n",
    "at_orig = pd.read_csv(file)\n",
    "file = folderpath + \"\\\\lyftlong\\\\rand_frames_table1.csv\"\n",
    "ft_orig = pd.read_csv(file)\n",
    "file = folderpath +  \"\\\\lyftlong\\\\rand_scenes_table1.csv\"\n",
    "st_orig = pd.read_csv(file)"
   ]
  },
  {
   "cell_type": "code",
   "execution_count": 3,
   "metadata": {},
   "outputs": [],
   "source": [
    "at = at_orig.copy()\n",
    "ft = ft_orig.copy()\n",
    "st = st_orig.copy()"
   ]
  },
  {
   "cell_type": "code",
   "execution_count": 4,
   "metadata": {},
   "outputs": [],
   "source": [
    "def set_intersection(list_of_sets):\n",
    "    \"\"\"\n",
    "    Gets the intersection of multiple sets\n",
    "    \"\"\"\n",
    "    len_list_of_sets = len(list_of_sets)\n",
    "    if len_list_of_sets == 0:\n",
    "        # only activates when the original list of sets is literally empty\n",
    "        return set([])\n",
    "    if len_list_of_sets == 1:\n",
    "        # recursion's base case\n",
    "        return list_of_sets[0]\n",
    "    middle = math.floor(len_list_of_sets / 2)\n",
    "    return set_intersection(list_of_sets[:middle]) | set_intersection(list_of_sets[middle:])\n",
    "def set_union(list_of_sets):\n",
    "    \"\"\"\n",
    "    Gets the union of multiple sets\n",
    "    \"\"\"\n",
    "    len_list_of_sets = len(list_of_sets)\n",
    "    if len_list_of_sets == 0:\n",
    "        # only activates when the original list of sets is literally empty\n",
    "        return set([])\n",
    "    if len_list_of_sets == 1:\n",
    "        # recursion's base case\n",
    "        return list_of_sets[0]\n",
    "    middle = math.floor(len_list_of_sets / 2)\n",
    "    return set_union(list_of_sets[:middle]) | set_union(list_of_sets[middle:])\n",
    "\n",
    "def set_uniformity(sets_list):\n",
    "    overlap = set_intersection(sets_list)\n",
    "    union = set_union(sets_list)\n",
    "    if union == 0:\n",
    "        return False\n",
    "    else:\n",
    "        if (len(overlap)/len(union)) < 0.5:\n",
    "            return False\n",
    "        else:\n",
    "            return True"
   ]
  },
  {
   "cell_type": "code",
   "execution_count": 5,
   "metadata": {},
   "outputs": [],
   "source": [
    "def agents0_prepare_agent_table(agents_table):\n",
    "    agents_table = agents0d_filter_oversized_track_ids(agents_table)\n",
    "    agents_table = agents0c_reduce_columns(agents_table)\n",
    "    agents_table = agents0b_enhance_yaws(agents_table, 20)\n",
    "    agents_table = agents0a_filter_onroad(agents_table)\n",
    "    return agents_table\n",
    "    \n",
    "def agents0c_reduce_columns(agents_table):\n",
    "    agents_table_columns = [\n",
    "        'centroid_x', 'centroid_y', 'yaw', 'kind', \n",
    "        'on_road', 'track_id','frame_index', 'scene_index']\n",
    "    agents_table = agents_table[agents_table_columns]\n",
    "    return agents_table\n",
    "\n",
    "def agents0a_filter_onroad(agents_table: pd.DataFrame) -> pd.DataFrame:\n",
    "    agents_table_onroad = agents_table[agents_table.on_road == 1]\n",
    "    return agents_table_onroad\n",
    "\n",
    "# FEATURE: overbig\n",
    "def agents0d_filter_oversized_track_ids(agents_table: pd.DataFrame) -> pd.DataFrame:\n",
    "    # removed big objects\n",
    "    MAX_LENGTH_VEHICLES = 19.8 # federally mandated maximum length of vehicles\n",
    "    # any cars in the dataset that has a sidelength greater than this was probably a data-mistake\n",
    "    \n",
    "    temp_mean_at = agents_table.groupby(['scene_index','track_id'], as_index = False).mean()\n",
    "    overbig_track_ids = temp_mean_at[(temp_mean_at.extent_x > MAX_LENGTH_VEHICLES) |\n",
    "                                     (temp_mean_at.extent_y > MAX_LENGTH_VEHICLES)]\n",
    "    overbig_track_ids = overbig_track_ids[[\"scene_index\", \"track_id\"]]\n",
    "    merged = pd.merge(agents_table,overbig_track_ids, how='outer', on=[\"scene_index\", \"track_id\"], indicator=True)\n",
    "    left_anti_merge = merged[merged['_merge'] == 'left_only']#.drop(columns=[\"_merged\"])\n",
    "    left_anti_merge = left_anti_merge.drop(columns=[\"_merge\"])\n",
    "    return left_anti_merge\n",
    "    \n",
    "    \n",
    "\n",
    "def agents0b_enhance_yaws(agents_table: pd.DataFrame, \n",
    "                          yaw_enhancer: float = 20/(2*np.pi)) -> pd.DataFrame:\n",
    "    agents_table['yaw'] *= yaw_enhancer\n",
    "    return agents_table"
   ]
  },
  {
   "cell_type": "code",
   "execution_count": 6,
   "metadata": {},
   "outputs": [],
   "source": [
    "class Time_Series_Partition:\n",
    "    def __init__(self,\n",
    "                 input_array: np.ndarray,\n",
    "                 output_row: np.ndarray):\n",
    "        self.input_array = input_array\n",
    "        self.output_row = output_row"
   ]
  },
  {
   "cell_type": "code",
   "execution_count": 7,
   "metadata": {},
   "outputs": [],
   "source": [
    "class Cluster:\n",
    "    \"\"\"\n",
    "    Class object to represent 1 cluster of entities in a frame\n",
    "    \"\"\"\n",
    "    def __init__(self, \n",
    "                 scene_index: int,\n",
    "                 frame_index: int,\n",
    "                 anchor: int,\n",
    "                 cluster: set([int]),\n",
    "                ):\n",
    "        self.scene_index = scene_index\n",
    "        self.frame_index = frame_index\n",
    "        self.anchor = anchor # dbscan cluster label OR anchor track_id\n",
    "        self.cluster = cluster # set of track_ids\n",
    "        # use global frame_index\n",
    "    def __repr__(self):\n",
    "        return \"{0}: {1}\".format(str(self.anchor), str(self.cluster))"
   ]
  },
  {
   "cell_type": "code",
   "execution_count": 8,
   "metadata": {},
   "outputs": [],
   "source": [
    "class Clusters_Sequence:\n",
    "    \"\"\"\n",
    "    Sequential Container Class object to a cluster's transformation in time;\n",
    "    it is basically a list of clusters with the same anchor attribute\n",
    "    \"\"\"\n",
    "    def __init__(self, \n",
    "                 clusters: [Cluster],\n",
    "                ):\n",
    "        self.cluster_sequence = clusters\n",
    "        self.rank = len(clusters)\n",
    "        self.anchor = clusters[0].anchor\n",
    "    def __repr__(self):\n",
    "        return \"\".join([repr(cluster)+\"\\n\" for cluster in self.cluster_sequence])"
   ]
  },
  {
   "cell_type": "code",
   "execution_count": 9,
   "metadata": {},
   "outputs": [],
   "source": [
    "class Frame_Clusters:\n",
    "    \"\"\"\n",
    "    Container Class object that holds a list of all clusters with the same frame_index attribute\n",
    "    \"\"\"\n",
    "    def __init__(self, \n",
    "                 scene_index: int,\n",
    "                 frame_index: int,\n",
    "                 clusters_dict: dict,\n",
    "                ):\n",
    "        self.scene_index = scene_index\n",
    "        self.frame_index = frame_index \n",
    "        self.frame_clusters = clusters_dict.values()\n",
    "        # assert all(cluster.frame_index == self.frame_index for cluster in self.frame_clusters)\n",
    "        self.clusters_dict = clusters_dict \n",
    "    def __getitem__(self, key):\n",
    "        return self.clusters_dict[key]\n",
    "    def __repr__(self):\n",
    "        return \"\".join([repr(cluster)+\"\\n\" for cluster in self.frame_clusters])"
   ]
  },
  {
   "cell_type": "code",
   "execution_count": 10,
   "metadata": {},
   "outputs": [],
   "source": [
    "def agents1b_get_scene_index_by_scene_list_index(scene_table: pd.DataFrame, \n",
    "                                                 scene_list_index: int) -> int:\n",
    "    assert scene_list_index >= 0 and scene_list_index <= 100 \n",
    "    scene_index = st.scene_index.values[scene_list_index]\n",
    "    return scene_index"
   ]
  },
  {
   "cell_type": "code",
   "execution_count": 11,
   "metadata": {},
   "outputs": [],
   "source": [
    "from shapely.geometry import Point, Polygon \n",
    "\n",
    "folderpath = \"C:\\\\Users\\\\Benson\\\\Desktop\\\\\"\n",
    "cw_df_orig = pd.read_csv(folderpath + \"lyftlong\\\\crosswalks_table0.csv\")\n",
    "cw_df = cw_df_orig.copy()\n",
    "cw_df[\"pairs\"] = list(np.dstack((cw_df.cw_coord_x.values, cw_df.cw_coord_y.values))[0] )\n",
    "polygon_vertices_list = cw_df.groupby('cw_id')[\"pairs\"].apply(list)\n",
    "\n",
    "crosswalk_polygon_list = [Polygon(polygon_vertices) for polygon_vertices in polygon_vertices_list]"
   ]
  },
  {
   "cell_type": "code",
   "execution_count": 42,
   "metadata": {},
   "outputs": [],
   "source": [
    "def radius_classification(anchor_track_id: int, \n",
    "                          anchor_agents_table: pd.DataFrame,\n",
    "                          max_radius: int = 20) -> [int]:\n",
    "    # get anchor agent's values\n",
    "    anchor_row = anchor_agents_table[anchor_agents_table.track_id == anchor_track_id]\n",
    "    anchor_scene_index  = anchor_row[\"scene_index\"].values[0]\n",
    "    anchor_frame_index  = anchor_row[\"frame_index\"].values[0]    \n",
    "    anchor_x   = anchor_row[\"centroid_x\"].values[0]\n",
    "    anchor_y   = anchor_row[\"centroid_y\"].values[0]\n",
    "    anchor_yaw = anchor_row[\"yaw\"       ].values[0]\n",
    "    # get differences of every other agent in the frame (anchor_agents_table) in terms of values above\n",
    "    \n",
    "    x_diff   = (anchor_agents_table[\"centroid_x\"].values - anchor_x)**2\n",
    "    y_diff   = (anchor_agents_table[\"centroid_y\"].values - anchor_y)**2\n",
    "    yaw_diff = (anchor_agents_table[\"yaw\"].values - anchor_yaw)**2\n",
    "    \n",
    "    anchor_dist = np.sqrt(x_diff + y_diff + yaw_diff)\n",
    "    anchor_agents_table[\"anchor_dist\"] = anchor_dist\n",
    "    \n",
    "    anchor_agents_table = anchor_agents_table[anchor_agents_table.anchor_dist < max_radius]\n",
    "    \n",
    "    cluster = Cluster(\n",
    "                      scene_index = anchor_scene_index,\n",
    "                      frame_index = anchor_frame_index,\n",
    "                      anchor = anchor_track_id,\n",
    "                      cluster = set(anchor_agents_table[\"track_id\"].values))\n",
    "    return cluster\n",
    "\n",
    "def intersection_proximity(anchor_track_id, anchor_agents_table, max_radius = 20):\n",
    "    global crosswalk_polygon_list\n",
    "    anchor_row = anchor_agents_table[anchor_agents_table.track_id == anchor_track_id]   \n",
    "    anchor_x   = anchor_row[\"centroid_x\"].values[0]\n",
    "    anchor_y   = anchor_row[\"centroid_y\"].values[0]\n",
    "    point = Point(anchor_x, anchor_y)\n",
    "    return any([(poly.distance(point) < max_radius) for poly in crosswalk_polygon_list])\n",
    "\n",
    "def iterate_radius_classification(frame_onroad_agents_table):\n",
    "    # one frame\n",
    "    unique_track_ids = pd.unique(frame_onroad_agents_table[\"track_id\"])\n",
    "    radius_cluster_dict = dict()\n",
    "    for unique_track_id in (unique_track_ids):\n",
    "        \n",
    "        if intersection_proximity(unique_track_id, frame_onroad_agents_table): continue\n",
    "        cluster = radius_classification(unique_track_id, frame_onroad_agents_table)\n",
    "        \n",
    "        radius_cluster_dict[unique_track_id] = cluster\n",
    "    return radius_cluster_dict\n",
    "\n",
    "def cluster_creation_after_full_agents_table_selection(agents_table_selected: pd.DataFrame) -> dict:\n",
    "    \"\"\"\n",
    "    agents_table_selected is the agent table of 1 frame in 1 scene.\n",
    "    \"\"\"\n",
    "    # reduced the table to speed up next line.\n",
    "    cluster_trackid_dict = iterate_radius_classification(agents_table_selected)\n",
    "    return cluster_trackid_dict\n"
   ]
  },
  {
   "cell_type": "code",
   "execution_count": 27,
   "metadata": {},
   "outputs": [],
   "source": [
    "def get_scene_i_frame_clusters_list(agents_table, \n",
    "                                    scene_index: int,\n",
    "                                    frame_index_start,\n",
    "                                    scene_frames_amount) -> [Frame_Clusters]:\n",
    "    global scenes_table, frames_table\n",
    "    scene_i_frame_clusters_list = []\n",
    "    \n",
    "    frame_length = scene_frames_amount\n",
    "\n",
    "    frame_length_starter = 0\n",
    "    \n",
    "    frame_length = int(scene_frames_amount * 0.25)\n",
    "    frame_length_starter = np.random.randint(0, frame_length - 3)\n",
    "\n",
    "    for frame_list_index in range(frame_length_starter, frame_length_starter + frame_length):\n",
    "        \n",
    "        frame_index = frame_index_start + frame_list_index\n",
    "        \n",
    "        agents_table_frame_selection = agents_table[agents_table.frame_index == frame_index]    \n",
    "        \n",
    "        clusters_dict = cluster_creation_after_full_agents_table_selection(agents_table_frame_selection)\n",
    "\n",
    "        frame_clusters = Frame_Clusters(\n",
    "                                        frame_index = frame_index,\n",
    "                                        scene_index = scene_index,\n",
    "                                        clusters_dict = clusters_dict)\n",
    "\n",
    "        scene_i_frame_clusters_list.append(frame_clusters)\n",
    "    return scene_i_frame_clusters_list"
   ]
  },
  {
   "cell_type": "code",
   "execution_count": 28,
   "metadata": {},
   "outputs": [],
   "source": [
    "agents_table = agents0_prepare_agent_table(at_orig.copy())\n",
    "scenes_table = st_orig.copy()\n",
    "frames_table = ft_orig.copy()"
   ]
  },
  {
   "cell_type": "code",
   "execution_count": 29,
   "metadata": {},
   "outputs": [],
   "source": [
    "def clustering_set_operations(scene_k_frames_clusters_list: [Frame_Clusters]):\n",
    "    def verify_anchor_in_all_frame_clusters(anchor, scene_k_frames_clusters_list):\n",
    "        return all([(anchor in frame_cluster.clusters_dict.keys()) \n",
    "                    for frame_cluster in scene_k_frames_clusters_list])\n",
    "    first_frame_clusters = scene_k_frames_clusters_list[0]\n",
    "    \n",
    "    anchors = first_frame_clusters.clusters_dict.keys()\n",
    "    final_cluster_sequences = []\n",
    "    for anchor in anchors:\n",
    "        if verify_anchor_in_all_frame_clusters(anchor, scene_k_frames_clusters_list) == True:\n",
    "            anchor_sequence_sets = []\n",
    "            cluster_sequences = []\n",
    "            for frame_cluster in scene_k_frames_clusters_list:\n",
    "                cluster_sequences.append(frame_cluster[anchor])\n",
    "                anchor_sequence_sets.append(frame_cluster[anchor].cluster)\n",
    "            if set_uniformity(anchor_sequence_sets):\n",
    "                cluster_sequence = Clusters_Sequence(cluster_sequences)\n",
    "                final_cluster_sequences.append(cluster_sequence)\n",
    "    return final_cluster_sequences"
   ]
  },
  {
   "cell_type": "code",
   "execution_count": 30,
   "metadata": {},
   "outputs": [],
   "source": [
    "def create_scene_i_frame_cluster_sequences(sequence_length, scene_i_frame_clusters_list):\n",
    "    scene_i_frame_cluster_sequences = []\n",
    "\n",
    "    k = sequence_length\n",
    "    \n",
    "    for i in range(k - 1, len(scene_i_frame_clusters_list)):\n",
    "        \n",
    "        scene_k_frames_clusters_list = scene_i_frame_clusters_list[i-(k-1):i+1] # 3 frame_clusters\n",
    "        \n",
    "        final_cluster_sequences = clustering_set_operations(scene_k_frames_clusters_list)\n",
    "        \n",
    "        scene_i_frame_cluster_sequences.extend(final_cluster_sequences)\n",
    "    return scene_i_frame_cluster_sequences"
   ]
  },
  {
   "cell_type": "code",
   "execution_count": 31,
   "metadata": {},
   "outputs": [],
   "source": [
    "K = 3\n",
    "def array_track_id_standardization(agents_array: np.ndarray):\n",
    "    \n",
    "    place_holder = 0\n",
    "    \n",
    "    MAX_TRACK_IDS = 20\n",
    "    \n",
    "    FEATURES_AMOUNT = 3\n",
    "    \n",
    "    num_track_ids = agents_array.shape[1] // FEATURES_AMOUNT\n",
    "    track_ids_disparity = MAX_TRACK_IDS - num_track_ids\n",
    "        \n",
    "    if track_ids_disparity < 0:\n",
    "        # oversized\n",
    "        agents_array_standardized = agents_array[:,:MAX_TRACK_IDS * FEATURES_AMOUNT]\n",
    "    else:\n",
    "        dummy_array = np.full((K, track_ids_disparity*FEATURES_AMOUNT), place_holder)\n",
    "        try:\n",
    "            agents_array_standardized = np.column_stack((agents_array, dummy_array))\n",
    "        except:\n",
    "            print(agents_array.shape, dummy_array.shape)\n",
    "            assert False\n",
    "    agents_array_standardized = np.nan_to_num(agents_array_standardized)\n",
    "    return agents_array_standardized"
   ]
  },
  {
   "cell_type": "code",
   "execution_count": 32,
   "metadata": {},
   "outputs": [],
   "source": [
    "# ROAD_STANDARDIZATION\n",
    "import math\n",
    "def RS1_recenter(agent_table, center_row):\n",
    "    agent_table[\"centroid_x\"] = agent_table[\"centroid_x\"].values - center_row[\"centroid_x\"].values[0]\n",
    "    agent_table[\"centroid_y\"] = agent_table[\"centroid_y\"].values - center_row[\"centroid_y\"].values[0]\n",
    "    return agent_table\n",
    "def RS2_reyaw2(agent_table, center_row):\n",
    "    # points center entity's yaw to 0 pi, revolving every object around with it\n",
    "    # thus changing both their location and yaws\n",
    "    # Will utilize rotation matrix and matrix multiplication\n",
    "    YAW_ANCHOR = 0*np.pi\n",
    "    center_yaw = center_row[\"yaw\"].values[0]\n",
    "    center_yaw_difference = YAW_ANCHOR - center_yaw\n",
    "    \n",
    "    rotation_matrix = np.array([\n",
    "        [math.cos(center_yaw_difference),-math.sin(center_yaw_difference)],\n",
    "        [math.sin(center_yaw_difference), math.cos(center_yaw_difference)]\n",
    "    ])\n",
    "    \n",
    "    agent_table_rotation_matrix_input = agent_table[[\"centroid_x\", \"centroid_y\"]].to_numpy().T\n",
    "    \n",
    "    assert agent_table_rotation_matrix_input.shape[0] == 2\n",
    "    \n",
    "    agent_table_rotation_matrix_output = rotation_matrix @ agent_table_rotation_matrix_input\n",
    "    \n",
    "    # revolve every surrounding agent by center_yaw_difference    \n",
    "    # reconvert new_thetas and radii for the newly recentered agent table by polar coordinates\n",
    "    \n",
    "    agent_table[\"centroid_x\"] = agent_table_rotation_matrix_output[0]\n",
    "    agent_table[\"centroid_y\"] = agent_table_rotation_matrix_output[1]\n",
    "    \n",
    "    agent_table[\"yaw\"] += center_yaw_difference\n",
    "    agent_table[\"yaw\"] %= 2*math.pi # re-bases them\n",
    "    \n",
    "    return agent_table\n",
    "def road_standardizer(agent_table,\n",
    "                      cluster_sequences):\n",
    "    anchor = cluster_sequences.anchor # center track_id\n",
    "    center_row = agent_table[agent_table.track_id == anchor]\n",
    "    agent_table = RS1_recenter(agent_table, center_row)\n",
    "    agent_table = RS2_reyaw2(agent_table, center_row)\n",
    "    return agent_table"
   ]
  },
  {
   "cell_type": "code",
   "execution_count": 33,
   "metadata": {},
   "outputs": [],
   "source": [
    "\n",
    "def create_partitions(agent_table,\n",
    "                      cluster_sequence: Clusters_Sequence):\n",
    "    \n",
    "    # step one: get union of all clusters in cluster sequence, set N = length of that \n",
    "    track_ids_frame_sets = [cluster.cluster for cluster in cluster_sequence.cluster_sequence]\n",
    "    # ^ e.g. \n",
    "    all_track_ids = list(set_union(track_ids_frame_sets))\n",
    "    \n",
    "    frame_index_start = cluster_sequence.cluster_sequence[0].frame_index\n",
    "    frame_index_end   = cluster_sequence.cluster_sequence[-1].frame_index\n",
    "    frame_indices = list(range(frame_index_start, frame_index_end + 1))\n",
    "    k = len(frame_indices)\n",
    "    \n",
    "    # step 2: filter agent_table; in terms of track_id, and frame_index\n",
    "    \n",
    "    agent_table = agent_table[agent_table.track_id.isin(all_track_ids)]\n",
    "    agent_table = agent_table[agent_table.frame_index.isin(frame_indices)]\n",
    "    \n",
    "    \n",
    "    # step 2a: road standardizer\n",
    "    agent_table = road_standardizer(agent_table, cluster_sequence)\n",
    "    \n",
    "    # agent_table = agent_table.drop(columns=['yaw'])\n",
    "    # DO NOT DROP YAW\n",
    "    \n",
    "    # step 3: pivot with index= frame_index, column = \"track_id\"\n",
    "    pivoted_agent_table = agent_table.pivot(index='frame_index', columns='track_id',)\n",
    "    \n",
    "    # step 4: standardize\n",
    "    # if len(pivoted_agent_table.columns) != 40:\n",
    "    #    print(pivoted_agent_table.columns)\n",
    "    pivoted_agent_array = pivoted_agent_table.to_numpy()\n",
    "    \n",
    "    \n",
    "    fixed_agent_array = array_track_id_standardization(pivoted_agent_array)\n",
    "    k = len(frame_indices)    \n",
    "\n",
    "    # step 5: break into input, output\n",
    "    inpt = fixed_agent_array[:k-1]\n",
    "    outp = fixed_agent_array[k-1]\n",
    "    \n",
    "    partition = Time_Series_Partition(\n",
    "        input_array = inpt,\n",
    "        output_row  = outp)\n",
    "    return partition"
   ]
  },
  {
   "cell_type": "code",
   "execution_count": 34,
   "metadata": {
    "scrolled": true
   },
   "outputs": [],
   "source": [
    "\n",
    "def create_scene_i_partitions_list(pre_pivoted_agent_table, scene_i_frame_cluster_sequences):\n",
    "    scene_i_partitions_list = []\n",
    "    for cluster_sequences in scene_i_frame_cluster_sequences:\n",
    "        partition = create_partitions(pre_pivoted_agent_table,\n",
    "                                      cluster_sequences)\n",
    "        scene_i_partitions_list.append(partition)\n",
    "    return scene_i_partitions_list"
   ]
  },
  {
   "cell_type": "markdown",
   "metadata": {},
   "source": [
    "#### EXECUTION STARTS HERE"
   ]
  },
  {
   "cell_type": "code",
   "execution_count": 35,
   "metadata": {},
   "outputs": [],
   "source": [
    "def add_scene_partitions_dataset(agents_table, scene_list_index):\n",
    "    global scenes_table, frames_table\n",
    "    \n",
    "    # Extracted from A\n",
    "    scene_index = agents1b_get_scene_index_by_scene_list_index(scene_table = scenes_table,\n",
    "                                                               scene_list_index = scene_list_index)\n",
    "    print(scene_index)\n",
    "    agents_table = agents_table[agents_table.scene_index == scene_index]\n",
    "    scene_frames_amount = len(pd.unique(agents_table[\"frame_index\"]))\n",
    "    scene_table_row = scenes_table.iloc[scene_list_index]\n",
    "    frame_index_start = scene_table_row[\"frame_index_interval_start\"]\n",
    "    frame_index_end = scene_table_row[\"frame_index_interval_end\"]\n",
    "    scene_frames_amount = frame_index_end - frame_index_start\n",
    "    # extracted from A End\n",
    "    \n",
    "    \n",
    "    scene_i_frame_clusters_list = get_scene_i_frame_clusters_list(agents_table, \n",
    "                                                                  scene_index,\n",
    "                                                                  frame_index_start,\n",
    "                                                                  scene_frames_amount) # A\n",
    "    ############ A and B cannot be combined ########\n",
    "    print(\"clusters in a frame:\", len(scene_i_frame_clusters_list))\n",
    "    k = 3\n",
    "    \n",
    "    scene_i_frame_cluster_sequences = create_scene_i_frame_cluster_sequences(k, scene_i_frame_clusters_list) # B\n",
    "    \n",
    "    FOR_ROAD_STANDARDIZER = [\"yaw\"]\n",
    "    pre_pivoted_agent_table = agents_table[['centroid_x', 'centroid_y', 'track_id', 'frame_index'] + FOR_ROAD_STANDARDIZER]\n",
    "    \n",
    "    scene_i_partitions_list  = create_scene_i_partitions_list(pre_pivoted_agent_table,\n",
    "                                                              scene_i_frame_cluster_sequences) # C\n",
    "    \n",
    "    if scene_list_index%10 == 0 and scene_list_index != 0:\n",
    "        print(scene_i_partitions_list[0].input_array.shape)\n",
    "        print(\"Scenes: {0}/{1}\".format(str(scene_list_index), str(100)))\n",
    "    \n",
    "    return scene_i_partitions_list"
   ]
  },
  {
   "cell_type": "code",
   "execution_count": 36,
   "metadata": {},
   "outputs": [],
   "source": [
    "def retry(agents_table, scene_list_index):\n",
    "    try:\n",
    "        scene_i_partitions_list = add_scene_partitions_dataset(agents_table, scene_list_index)\n",
    "        return scene_i_partitions_list\n",
    "    except:\n",
    "        print(\"\\t retrying scene_list_index {0}\".format())\n",
    "        return retry(agents_table, scene_list_index)"
   ]
  },
  {
   "cell_type": "code",
   "execution_count": 37,
   "metadata": {
    "scrolled": true
   },
   "outputs": [],
   "source": [
    "import time\n",
    "import pickle\n",
    "\n",
    "scene_partitions_dataset = []\n",
    "\n",
    "pickle_filename = \"radius_threshold_2_partitions_test.pkl\"\n",
    "pickle_file = open(pickle_filename, 'wb')   # Pickle file is newly created where foo1.py is\n",
    "pickle.dump(scene_partitions_dataset, pickle_file)          # dump data to f\n",
    "pickle_file.close()"
   ]
  },
  {
   "cell_type": "code",
   "execution_count": 38,
   "metadata": {},
   "outputs": [],
   "source": [
    "agents_table = agents0_prepare_agent_table(at_orig.copy())\n",
    "def pickle_partitions(pickle_file_name, \n",
    "                      scene_amount = 100):\n",
    "    global agents_table\n",
    "    # check first if we left off anywhere\n",
    "    f = open(pickle_file_name, 'rb')\n",
    "    stored_data = pickle.load(f)         # load file content as mydict\n",
    "    f.close()   \n",
    "    \n",
    "    current_amount = len(stored_data)\n",
    "    if current_amount == scene_amount:\n",
    "        return None\n",
    "    \n",
    "    for scene_list_index in range(current_amount, scene_amount):\n",
    "\n",
    "        start = time.time()\n",
    "        print(\"scene_list_index: {0}\".format(str(scene_list_index)))\n",
    "        # add_scene_partitions_dataset(scene_list_index)\n",
    "        scene_i_partitions_list = retry(agents_table, scene_list_index)\n",
    "        end = time.time()\n",
    "        elapsed = end - start\n",
    "        print(elapsed)\n",
    "        \n",
    "        \n",
    "        \n",
    "        scene_partitions_dataset.append(scene_i_partitions_list)\n",
    "        \n",
    "        if (scene_list_index + 1)%5 == 0:\n",
    "            print(\"DO NOT HALT; OVERWRITING FILE; PLEASE WAIT\")        \n",
    "            f = open(pickle_file_name, 'rb')   # 'r' for reading; can be omitted\n",
    "            stored_data = pickle.load(f) \n",
    "            stored_data = scene_partitions_dataset\n",
    "            \n",
    "            f = open(pickle_file_name, \"wb\")\n",
    "            pickle.dump(stored_data, f)          # dump data to f\n",
    "            f.close()\n",
    "            \n",
    "            print(\"OVERWRITING FILE DONE; YOU MAY NOW HALT\")\n",
    "    "
   ]
  },
  {
   "cell_type": "code",
   "execution_count": 43,
   "metadata": {
    "scrolled": true
   },
   "outputs": [
    {
     "name": "stdout",
     "output_type": "stream",
     "text": [
      "scene_list_index: 0\n",
      "7827\n"
     ]
    },
    {
     "name": "stderr",
     "output_type": "stream",
     "text": [
      "c:\\users\\benson\\appdata\\local\\programs\\python\\python37\\lib\\site-packages\\ipykernel_launcher.py:18: SettingWithCopyWarning: \n",
      "A value is trying to be set on a copy of a slice from a DataFrame.\n",
      "Try using .loc[row_indexer,col_indexer] = value instead\n",
      "\n",
      "See the caveats in the documentation: http://pandas.pydata.org/pandas-docs/stable/user_guide/indexing.html#returning-a-view-versus-a-copy\n"
     ]
    },
    {
     "name": "stdout",
     "output_type": "stream",
     "text": [
      "clusters in a frame: 62\n",
      "11.031585454940796\n",
      "scene_list_index: 1\n",
      "15982\n",
      "clusters in a frame: 62\n",
      "16.090540647506714\n",
      "scene_list_index: 2\n",
      "10378\n",
      "clusters in a frame: 62\n",
      "10.59829044342041\n",
      "scene_list_index: 3\n",
      "154\n",
      "clusters in a frame: 62\n",
      "10.62233567237854\n",
      "scene_list_index: 4\n",
      "9380\n",
      "clusters in a frame: 62\n",
      "8.827515363693237\n",
      "DO NOT HALT; OVERWRITING FILE; PLEASE WAIT\n",
      "OVERWRITING FILE DONE; YOU MAY NOW HALT\n",
      "scene_list_index: 5\n",
      "15002\n",
      "clusters in a frame: 62\n",
      "6.358933687210083\n",
      "scene_list_index: 6\n",
      "4455\n"
     ]
    },
    {
     "ename": "IndexError",
     "evalue": "tuple index out of range",
     "output_type": "error",
     "traceback": [
      "\u001b[1;31m---------------------------------------------------------------------------\u001b[0m",
      "\u001b[1;31mKeyboardInterrupt\u001b[0m                         Traceback (most recent call last)",
      "\u001b[1;32m<ipython-input-36-0379b49f02b7>\u001b[0m in \u001b[0;36mretry\u001b[1;34m(agents_table, scene_list_index)\u001b[0m\n\u001b[0;32m      2\u001b[0m     \u001b[1;32mtry\u001b[0m\u001b[1;33m:\u001b[0m\u001b[1;33m\u001b[0m\u001b[1;33m\u001b[0m\u001b[0m\n\u001b[1;32m----> 3\u001b[1;33m         \u001b[0mscene_i_partitions_list\u001b[0m \u001b[1;33m=\u001b[0m \u001b[0madd_scene_partitions_dataset\u001b[0m\u001b[1;33m(\u001b[0m\u001b[0magents_table\u001b[0m\u001b[1;33m,\u001b[0m \u001b[0mscene_list_index\u001b[0m\u001b[1;33m)\u001b[0m\u001b[1;33m\u001b[0m\u001b[1;33m\u001b[0m\u001b[0m\n\u001b[0m\u001b[0;32m      4\u001b[0m         \u001b[1;32mreturn\u001b[0m \u001b[0mscene_i_partitions_list\u001b[0m\u001b[1;33m\u001b[0m\u001b[1;33m\u001b[0m\u001b[0m\n",
      "\u001b[1;32m<ipython-input-35-2f1915a67adb>\u001b[0m in \u001b[0;36madd_scene_partitions_dataset\u001b[1;34m(agents_table, scene_list_index)\u001b[0m\n\u001b[0;32m     19\u001b[0m                                                                   \u001b[0mframe_index_start\u001b[0m\u001b[1;33m,\u001b[0m\u001b[1;33m\u001b[0m\u001b[1;33m\u001b[0m\u001b[0m\n\u001b[1;32m---> 20\u001b[1;33m                                                                   scene_frames_amount) # A\n\u001b[0m\u001b[0;32m     21\u001b[0m     \u001b[1;31m############ A and B cannot be combined ########\u001b[0m\u001b[1;33m\u001b[0m\u001b[1;33m\u001b[0m\u001b[1;33m\u001b[0m\u001b[0m\n",
      "\u001b[1;32m<ipython-input-27-06b1edcd875a>\u001b[0m in \u001b[0;36mget_scene_i_frame_clusters_list\u001b[1;34m(agents_table, scene_index, frame_index_start, scene_frames_amount)\u001b[0m\n\u001b[0;32m     20\u001b[0m \u001b[1;33m\u001b[0m\u001b[0m\n\u001b[1;32m---> 21\u001b[1;33m         \u001b[0mclusters_dict\u001b[0m \u001b[1;33m=\u001b[0m \u001b[0mcluster_creation_after_full_agents_table_selection\u001b[0m\u001b[1;33m(\u001b[0m\u001b[0magents_table_frame_selection\u001b[0m\u001b[1;33m)\u001b[0m\u001b[1;33m\u001b[0m\u001b[1;33m\u001b[0m\u001b[0m\n\u001b[0m\u001b[0;32m     22\u001b[0m \u001b[1;33m\u001b[0m\u001b[0m\n",
      "\u001b[1;32m<ipython-input-42-80bdca2ec012>\u001b[0m in \u001b[0;36mcluster_creation_after_full_agents_table_selection\u001b[1;34m(agents_table_selected)\u001b[0m\n\u001b[0;32m     53\u001b[0m     \u001b[1;31m# reduced the table to speed up next line.\u001b[0m\u001b[1;33m\u001b[0m\u001b[1;33m\u001b[0m\u001b[1;33m\u001b[0m\u001b[0m\n\u001b[1;32m---> 54\u001b[1;33m     \u001b[0mcluster_trackid_dict\u001b[0m \u001b[1;33m=\u001b[0m \u001b[0miterate_radius_classification\u001b[0m\u001b[1;33m(\u001b[0m\u001b[0magents_table_selected\u001b[0m\u001b[1;33m)\u001b[0m\u001b[1;33m\u001b[0m\u001b[1;33m\u001b[0m\u001b[0m\n\u001b[0m\u001b[0;32m     55\u001b[0m     \u001b[1;32mreturn\u001b[0m \u001b[0mcluster_trackid_dict\u001b[0m\u001b[1;33m\u001b[0m\u001b[1;33m\u001b[0m\u001b[0m\n",
      "\u001b[1;32m<ipython-input-42-80bdca2ec012>\u001b[0m in \u001b[0;36miterate_radius_classification\u001b[1;34m(frame_onroad_agents_table)\u001b[0m\n\u001b[0;32m     42\u001b[0m \u001b[1;33m\u001b[0m\u001b[0m\n\u001b[1;32m---> 43\u001b[1;33m         \u001b[1;32mif\u001b[0m \u001b[0mintersection_proximity\u001b[0m\u001b[1;33m(\u001b[0m\u001b[0munique_track_id\u001b[0m\u001b[1;33m,\u001b[0m \u001b[0mframe_onroad_agents_table\u001b[0m\u001b[1;33m)\u001b[0m\u001b[1;33m:\u001b[0m \u001b[1;32mcontinue\u001b[0m\u001b[1;33m\u001b[0m\u001b[1;33m\u001b[0m\u001b[0m\n\u001b[0m\u001b[0;32m     44\u001b[0m         \u001b[0mcluster\u001b[0m \u001b[1;33m=\u001b[0m \u001b[0mradius_classification\u001b[0m\u001b[1;33m(\u001b[0m\u001b[0munique_track_id\u001b[0m\u001b[1;33m,\u001b[0m \u001b[0mframe_onroad_agents_table\u001b[0m\u001b[1;33m)\u001b[0m\u001b[1;33m\u001b[0m\u001b[1;33m\u001b[0m\u001b[0m\n",
      "\u001b[1;32m<ipython-input-42-80bdca2ec012>\u001b[0m in \u001b[0;36mintersection_proximity\u001b[1;34m(anchor_track_id, anchor_agents_table, max_radius)\u001b[0m\n\u001b[0;32m     34\u001b[0m     \u001b[0mpoint\u001b[0m \u001b[1;33m=\u001b[0m \u001b[0mPoint\u001b[0m\u001b[1;33m(\u001b[0m\u001b[0manchor_x\u001b[0m\u001b[1;33m,\u001b[0m \u001b[0manchor_y\u001b[0m\u001b[1;33m)\u001b[0m\u001b[1;33m\u001b[0m\u001b[1;33m\u001b[0m\u001b[0m\n\u001b[1;32m---> 35\u001b[1;33m     \u001b[1;32mreturn\u001b[0m \u001b[0many\u001b[0m\u001b[1;33m(\u001b[0m\u001b[1;33m[\u001b[0m\u001b[1;33m(\u001b[0m\u001b[0mpoly\u001b[0m\u001b[1;33m.\u001b[0m\u001b[0mdistance\u001b[0m\u001b[1;33m(\u001b[0m\u001b[0mpoint\u001b[0m\u001b[1;33m)\u001b[0m \u001b[1;33m<\u001b[0m \u001b[0mmax_radius\u001b[0m\u001b[1;33m)\u001b[0m \u001b[1;32mfor\u001b[0m \u001b[0mpoly\u001b[0m \u001b[1;32min\u001b[0m \u001b[0mcrosswalk_polygon_list\u001b[0m\u001b[1;33m]\u001b[0m\u001b[1;33m)\u001b[0m\u001b[1;33m\u001b[0m\u001b[1;33m\u001b[0m\u001b[0m\n\u001b[0m\u001b[0;32m     36\u001b[0m \u001b[1;33m\u001b[0m\u001b[0m\n",
      "\u001b[1;32m<ipython-input-42-80bdca2ec012>\u001b[0m in \u001b[0;36m<listcomp>\u001b[1;34m(.0)\u001b[0m\n\u001b[0;32m     34\u001b[0m     \u001b[0mpoint\u001b[0m \u001b[1;33m=\u001b[0m \u001b[0mPoint\u001b[0m\u001b[1;33m(\u001b[0m\u001b[0manchor_x\u001b[0m\u001b[1;33m,\u001b[0m \u001b[0manchor_y\u001b[0m\u001b[1;33m)\u001b[0m\u001b[1;33m\u001b[0m\u001b[1;33m\u001b[0m\u001b[0m\n\u001b[1;32m---> 35\u001b[1;33m     \u001b[1;32mreturn\u001b[0m \u001b[0many\u001b[0m\u001b[1;33m(\u001b[0m\u001b[1;33m[\u001b[0m\u001b[1;33m(\u001b[0m\u001b[0mpoly\u001b[0m\u001b[1;33m.\u001b[0m\u001b[0mdistance\u001b[0m\u001b[1;33m(\u001b[0m\u001b[0mpoint\u001b[0m\u001b[1;33m)\u001b[0m \u001b[1;33m<\u001b[0m \u001b[0mmax_radius\u001b[0m\u001b[1;33m)\u001b[0m \u001b[1;32mfor\u001b[0m \u001b[0mpoly\u001b[0m \u001b[1;32min\u001b[0m \u001b[0mcrosswalk_polygon_list\u001b[0m\u001b[1;33m]\u001b[0m\u001b[1;33m)\u001b[0m\u001b[1;33m\u001b[0m\u001b[1;33m\u001b[0m\u001b[0m\n\u001b[0m\u001b[0;32m     36\u001b[0m \u001b[1;33m\u001b[0m\u001b[0m\n",
      "\u001b[1;32mc:\\users\\benson\\appdata\\local\\programs\\python\\python37\\lib\\site-packages\\shapely\\geometry\\base.py\u001b[0m in \u001b[0;36mdistance\u001b[1;34m(self, other)\u001b[0m\n\u001b[0;32m    443\u001b[0m         \u001b[1;34m\"\"\"Unitless distance to other geometry (float)\"\"\"\u001b[0m\u001b[1;33m\u001b[0m\u001b[1;33m\u001b[0m\u001b[0m\n\u001b[1;32m--> 444\u001b[1;33m         \u001b[1;32mreturn\u001b[0m \u001b[0mself\u001b[0m\u001b[1;33m.\u001b[0m\u001b[0mimpl\u001b[0m\u001b[1;33m[\u001b[0m\u001b[1;34m'distance'\u001b[0m\u001b[1;33m]\u001b[0m\u001b[1;33m(\u001b[0m\u001b[0mself\u001b[0m\u001b[1;33m,\u001b[0m \u001b[0mother\u001b[0m\u001b[1;33m)\u001b[0m\u001b[1;33m\u001b[0m\u001b[1;33m\u001b[0m\u001b[0m\n\u001b[0m\u001b[0;32m    445\u001b[0m \u001b[1;33m\u001b[0m\u001b[0m\n",
      "\u001b[1;32mc:\\users\\benson\\appdata\\local\\programs\\python\\python37\\lib\\site-packages\\shapely\\topology.py\u001b[0m in \u001b[0;36m__call__\u001b[1;34m(self, this, other)\u001b[0m\n\u001b[0;32m     47\u001b[0m         \u001b[0md\u001b[0m \u001b[1;33m=\u001b[0m \u001b[0mc_double\u001b[0m\u001b[1;33m(\u001b[0m\u001b[1;33m)\u001b[0m\u001b[1;33m\u001b[0m\u001b[1;33m\u001b[0m\u001b[0m\n\u001b[1;32m---> 48\u001b[1;33m         \u001b[0mretval\u001b[0m \u001b[1;33m=\u001b[0m \u001b[0mself\u001b[0m\u001b[1;33m.\u001b[0m\u001b[0mfn\u001b[0m\u001b[1;33m(\u001b[0m\u001b[0mthis\u001b[0m\u001b[1;33m.\u001b[0m\u001b[0m_geom\u001b[0m\u001b[1;33m,\u001b[0m \u001b[0mother\u001b[0m\u001b[1;33m.\u001b[0m\u001b[0m_geom\u001b[0m\u001b[1;33m,\u001b[0m \u001b[0mbyref\u001b[0m\u001b[1;33m(\u001b[0m\u001b[0md\u001b[0m\u001b[1;33m)\u001b[0m\u001b[1;33m)\u001b[0m\u001b[1;33m\u001b[0m\u001b[1;33m\u001b[0m\u001b[0m\n\u001b[0m\u001b[0;32m     49\u001b[0m         \u001b[1;32mreturn\u001b[0m \u001b[0md\u001b[0m\u001b[1;33m.\u001b[0m\u001b[0mvalue\u001b[0m\u001b[1;33m\u001b[0m\u001b[1;33m\u001b[0m\u001b[0m\n",
      "\u001b[1;31mKeyboardInterrupt\u001b[0m: ",
      "\nDuring handling of the above exception, another exception occurred:\n",
      "\u001b[1;31mIndexError\u001b[0m                                Traceback (most recent call last)",
      "\u001b[1;32m<ipython-input-43-e67887f14ac7>\u001b[0m in \u001b[0;36m<module>\u001b[1;34m\u001b[0m\n\u001b[1;32m----> 1\u001b[1;33m \u001b[0mpickle_partitions\u001b[0m\u001b[1;33m(\u001b[0m\u001b[0mpickle_filename\u001b[0m\u001b[1;33m,\u001b[0m \u001b[0mscene_amount\u001b[0m \u001b[1;33m=\u001b[0m \u001b[1;36m50\u001b[0m\u001b[1;33m)\u001b[0m\u001b[1;33m\u001b[0m\u001b[1;33m\u001b[0m\u001b[0m\n\u001b[0m",
      "\u001b[1;32m<ipython-input-38-c7edfa9875fe>\u001b[0m in \u001b[0;36mpickle_partitions\u001b[1;34m(pickle_file_name, scene_amount)\u001b[0m\n\u001b[0;32m     17\u001b[0m         \u001b[0mprint\u001b[0m\u001b[1;33m(\u001b[0m\u001b[1;34m\"scene_list_index: {0}\"\u001b[0m\u001b[1;33m.\u001b[0m\u001b[0mformat\u001b[0m\u001b[1;33m(\u001b[0m\u001b[0mstr\u001b[0m\u001b[1;33m(\u001b[0m\u001b[0mscene_list_index\u001b[0m\u001b[1;33m)\u001b[0m\u001b[1;33m)\u001b[0m\u001b[1;33m)\u001b[0m\u001b[1;33m\u001b[0m\u001b[1;33m\u001b[0m\u001b[0m\n\u001b[0;32m     18\u001b[0m         \u001b[1;31m# add_scene_partitions_dataset(scene_list_index)\u001b[0m\u001b[1;33m\u001b[0m\u001b[1;33m\u001b[0m\u001b[1;33m\u001b[0m\u001b[0m\n\u001b[1;32m---> 19\u001b[1;33m         \u001b[0mscene_i_partitions_list\u001b[0m \u001b[1;33m=\u001b[0m \u001b[0mretry\u001b[0m\u001b[1;33m(\u001b[0m\u001b[0magents_table\u001b[0m\u001b[1;33m,\u001b[0m \u001b[0mscene_list_index\u001b[0m\u001b[1;33m)\u001b[0m\u001b[1;33m\u001b[0m\u001b[1;33m\u001b[0m\u001b[0m\n\u001b[0m\u001b[0;32m     20\u001b[0m         \u001b[0mend\u001b[0m \u001b[1;33m=\u001b[0m \u001b[0mtime\u001b[0m\u001b[1;33m.\u001b[0m\u001b[0mtime\u001b[0m\u001b[1;33m(\u001b[0m\u001b[1;33m)\u001b[0m\u001b[1;33m\u001b[0m\u001b[1;33m\u001b[0m\u001b[0m\n\u001b[0;32m     21\u001b[0m         \u001b[0melapsed\u001b[0m \u001b[1;33m=\u001b[0m \u001b[0mend\u001b[0m \u001b[1;33m-\u001b[0m \u001b[0mstart\u001b[0m\u001b[1;33m\u001b[0m\u001b[1;33m\u001b[0m\u001b[0m\n",
      "\u001b[1;32m<ipython-input-36-0379b49f02b7>\u001b[0m in \u001b[0;36mretry\u001b[1;34m(agents_table, scene_list_index)\u001b[0m\n\u001b[0;32m      4\u001b[0m         \u001b[1;32mreturn\u001b[0m \u001b[0mscene_i_partitions_list\u001b[0m\u001b[1;33m\u001b[0m\u001b[1;33m\u001b[0m\u001b[0m\n\u001b[0;32m      5\u001b[0m     \u001b[1;32mexcept\u001b[0m\u001b[1;33m:\u001b[0m\u001b[1;33m\u001b[0m\u001b[1;33m\u001b[0m\u001b[0m\n\u001b[1;32m----> 6\u001b[1;33m         \u001b[0mprint\u001b[0m\u001b[1;33m(\u001b[0m\u001b[1;34m\"\\t retrying scene_list_index {0}\"\u001b[0m\u001b[1;33m.\u001b[0m\u001b[0mformat\u001b[0m\u001b[1;33m(\u001b[0m\u001b[1;33m)\u001b[0m\u001b[1;33m)\u001b[0m\u001b[1;33m\u001b[0m\u001b[1;33m\u001b[0m\u001b[0m\n\u001b[0m\u001b[0;32m      7\u001b[0m         \u001b[1;32mreturn\u001b[0m \u001b[0mretry\u001b[0m\u001b[1;33m(\u001b[0m\u001b[0magents_table\u001b[0m\u001b[1;33m,\u001b[0m \u001b[0mscene_list_index\u001b[0m\u001b[1;33m)\u001b[0m\u001b[1;33m\u001b[0m\u001b[1;33m\u001b[0m\u001b[0m\n",
      "\u001b[1;31mIndexError\u001b[0m: tuple index out of range"
     ]
    }
   ],
   "source": [
    "pickle_partitions(pickle_filename, scene_amount = 50)"
   ]
  },
  {
   "cell_type": "markdown",
   "metadata": {},
   "source": [
    "## Partitions created; Now onto Time Series Forecasting"
   ]
  },
  {
   "cell_type": "code",
   "execution_count": 54,
   "metadata": {
    "scrolled": true
   },
   "outputs": [
    {
     "name": "stderr",
     "output_type": "stream",
     "text": [
      "Using TensorFlow backend.\n",
      "c:\\users\\benson\\appdata\\local\\programs\\python\\python37\\lib\\site-packages\\tensorflow\\python\\framework\\dtypes.py:516: FutureWarning: Passing (type, 1) or '1type' as a synonym of type is deprecated; in a future version of numpy, it will be understood as (type, (1,)) / '(1,)type'.\n",
      "  _np_qint8 = np.dtype([(\"qint8\", np.int8, 1)])\n",
      "c:\\users\\benson\\appdata\\local\\programs\\python\\python37\\lib\\site-packages\\tensorflow\\python\\framework\\dtypes.py:517: FutureWarning: Passing (type, 1) or '1type' as a synonym of type is deprecated; in a future version of numpy, it will be understood as (type, (1,)) / '(1,)type'.\n",
      "  _np_quint8 = np.dtype([(\"quint8\", np.uint8, 1)])\n",
      "c:\\users\\benson\\appdata\\local\\programs\\python\\python37\\lib\\site-packages\\tensorflow\\python\\framework\\dtypes.py:518: FutureWarning: Passing (type, 1) or '1type' as a synonym of type is deprecated; in a future version of numpy, it will be understood as (type, (1,)) / '(1,)type'.\n",
      "  _np_qint16 = np.dtype([(\"qint16\", np.int16, 1)])\n",
      "c:\\users\\benson\\appdata\\local\\programs\\python\\python37\\lib\\site-packages\\tensorflow\\python\\framework\\dtypes.py:519: FutureWarning: Passing (type, 1) or '1type' as a synonym of type is deprecated; in a future version of numpy, it will be understood as (type, (1,)) / '(1,)type'.\n",
      "  _np_quint16 = np.dtype([(\"quint16\", np.uint16, 1)])\n",
      "c:\\users\\benson\\appdata\\local\\programs\\python\\python37\\lib\\site-packages\\tensorflow\\python\\framework\\dtypes.py:520: FutureWarning: Passing (type, 1) or '1type' as a synonym of type is deprecated; in a future version of numpy, it will be understood as (type, (1,)) / '(1,)type'.\n",
      "  _np_qint32 = np.dtype([(\"qint32\", np.int32, 1)])\n",
      "c:\\users\\benson\\appdata\\local\\programs\\python\\python37\\lib\\site-packages\\tensorflow\\python\\framework\\dtypes.py:525: FutureWarning: Passing (type, 1) or '1type' as a synonym of type is deprecated; in a future version of numpy, it will be understood as (type, (1,)) / '(1,)type'.\n",
      "  np_resource = np.dtype([(\"resource\", np.ubyte, 1)])\n",
      "c:\\users\\benson\\appdata\\local\\programs\\python\\python37\\lib\\site-packages\\tensorboard\\compat\\tensorflow_stub\\dtypes.py:541: FutureWarning: Passing (type, 1) or '1type' as a synonym of type is deprecated; in a future version of numpy, it will be understood as (type, (1,)) / '(1,)type'.\n",
      "  _np_qint8 = np.dtype([(\"qint8\", np.int8, 1)])\n",
      "c:\\users\\benson\\appdata\\local\\programs\\python\\python37\\lib\\site-packages\\tensorboard\\compat\\tensorflow_stub\\dtypes.py:542: FutureWarning: Passing (type, 1) or '1type' as a synonym of type is deprecated; in a future version of numpy, it will be understood as (type, (1,)) / '(1,)type'.\n",
      "  _np_quint8 = np.dtype([(\"quint8\", np.uint8, 1)])\n",
      "c:\\users\\benson\\appdata\\local\\programs\\python\\python37\\lib\\site-packages\\tensorboard\\compat\\tensorflow_stub\\dtypes.py:543: FutureWarning: Passing (type, 1) or '1type' as a synonym of type is deprecated; in a future version of numpy, it will be understood as (type, (1,)) / '(1,)type'.\n",
      "  _np_qint16 = np.dtype([(\"qint16\", np.int16, 1)])\n",
      "c:\\users\\benson\\appdata\\local\\programs\\python\\python37\\lib\\site-packages\\tensorboard\\compat\\tensorflow_stub\\dtypes.py:544: FutureWarning: Passing (type, 1) or '1type' as a synonym of type is deprecated; in a future version of numpy, it will be understood as (type, (1,)) / '(1,)type'.\n",
      "  _np_quint16 = np.dtype([(\"quint16\", np.uint16, 1)])\n",
      "c:\\users\\benson\\appdata\\local\\programs\\python\\python37\\lib\\site-packages\\tensorboard\\compat\\tensorflow_stub\\dtypes.py:545: FutureWarning: Passing (type, 1) or '1type' as a synonym of type is deprecated; in a future version of numpy, it will be understood as (type, (1,)) / '(1,)type'.\n",
      "  _np_qint32 = np.dtype([(\"qint32\", np.int32, 1)])\n",
      "c:\\users\\benson\\appdata\\local\\programs\\python\\python37\\lib\\site-packages\\tensorboard\\compat\\tensorflow_stub\\dtypes.py:550: FutureWarning: Passing (type, 1) or '1type' as a synonym of type is deprecated; in a future version of numpy, it will be understood as (type, (1,)) / '(1,)type'.\n",
      "  np_resource = np.dtype([(\"resource\", np.ubyte, 1)])\n"
     ]
    }
   ],
   "source": [
    "import keras\n",
    "import tensorflow as tf\n",
    "from tensorflow.keras.layers import Dense\n",
    "from tensorflow.keras import Sequential\n",
    "from tensorflow.keras.layers import LSTM\n",
    "from tensorflow.keras.layers import SimpleRNN\n",
    "from tensorflow.keras.layers import Dropout"
   ]
  },
  {
   "cell_type": "code",
   "execution_count": null,
   "metadata": {},
   "outputs": [],
   "source": []
  },
  {
   "cell_type": "code",
   "execution_count": 44,
   "metadata": {},
   "outputs": [
    {
     "data": {
      "text/plain": [
       "5"
      ]
     },
     "execution_count": 44,
     "metadata": {},
     "output_type": "execute_result"
    }
   ],
   "source": [
    "f = open(pickle_filename, 'rb')   # 'r' for reading; can be omitted\n",
    "stored_data_final = pickle.load(f)         # load file content as mydict\n",
    "f.close()   \n",
    "len(stored_data_final)"
   ]
  },
  {
   "cell_type": "markdown",
   "metadata": {},
   "source": [
    "len(stored_data_final[0]) #[0]"
   ]
  },
  {
   "cell_type": "code",
   "execution_count": 46,
   "metadata": {
    "scrolled": true
   },
   "outputs": [
    {
     "data": {
      "text/plain": [
       "2462"
      ]
     },
     "execution_count": 46,
     "metadata": {},
     "output_type": "execute_result"
    }
   ],
   "source": [
    "scene_partitions_dataset_unwrapped = [i for x in stored_data_final for i in x]\n",
    "len(scene_partitions_dataset_unwrapped)"
   ]
  },
  {
   "cell_type": "code",
   "execution_count": 48,
   "metadata": {},
   "outputs": [],
   "source": [
    "for i in range(len(scene_partitions_dataset_unwrapped)):\n",
    "    if ((scene_partitions_dataset_unwrapped[i].input_array).shape) != (2,60):\n",
    "        print(i, ((scene_partitions_dataset_unwrapped[i].input_array).shape))"
   ]
  },
  {
   "cell_type": "code",
   "execution_count": 49,
   "metadata": {},
   "outputs": [],
   "source": [
    "TRAIN_PROPORTION = 0.8\n",
    "TRAIN_PROPORTION_INDEXER = int(len(scene_partitions_dataset_unwrapped) * 0.8)\n",
    "\n",
    "np.random.shuffle(scene_partitions_dataset_unwrapped)\n",
    "\n",
    "X_train = []\n",
    "y_train = []\n",
    "X_test = []\n",
    "y_test = []\n",
    "for i in range(len(scene_partitions_dataset_unwrapped)): # [:TRAIN_PROPORTION_INDEXER]:\n",
    "    partition = scene_partitions_dataset_unwrapped[i]\n",
    "    if i <= TRAIN_PROPORTION_INDEXER:\n",
    "        X_train.append(partition.input_array)\n",
    "        y_train.append(partition.output_row)\n",
    "    else:\n",
    "        X_test.append(partition.input_array)\n",
    "        y_test.append(partition.output_row)        \n",
    "X_train = np.array(X_train)\n",
    "y_train = np.array(y_train)\n",
    "X_test = np.array(X_test)\n",
    "y_test = np.array(y_test)"
   ]
  },
  {
   "cell_type": "code",
   "execution_count": 50,
   "metadata": {},
   "outputs": [
    {
     "data": {
      "text/plain": [
       "(1970, 2, 60)"
      ]
     },
     "execution_count": 50,
     "metadata": {},
     "output_type": "execute_result"
    }
   ],
   "source": [
    "X_train.shape"
   ]
  },
  {
   "cell_type": "code",
   "execution_count": 51,
   "metadata": {},
   "outputs": [],
   "source": [
    "assert not np.isnan(X_train).any()\n",
    "assert not np.isnan(y_train).any()\n",
    "assert not np.isnan(X_test).any()\n",
    "assert not np.isnan(y_test).any()"
   ]
  },
  {
   "cell_type": "code",
   "execution_count": 52,
   "metadata": {},
   "outputs": [],
   "source": [
    "assert not np.isinf(X_train).any()\n",
    "assert not np.isinf(y_train).any()\n",
    "assert not np.isinf(X_test).any()\n",
    "assert not np.isinf(y_test).any()"
   ]
  },
  {
   "cell_type": "code",
   "execution_count": 114,
   "metadata": {},
   "outputs": [],
   "source": [
    "n_steps = 2\n",
    "n_features = (60)\n",
    "\n",
    "act = None\n",
    "retseq = True\n",
    "\n",
    "LOSS_FUNCTION = \"mse\" # loss=tf.keras.losses.cosine_similarity\n",
    "\n",
    "#### define model\n",
    "model = Sequential()\n",
    "model.add(LSTM(100, activation=act, return_sequences=retseq, input_shape=(n_steps, n_features)))\n",
    "# model.add(Dropout(0.2))\n",
    "model.add(LSTM(50, activation=act)) #, return_sequences=retseq,))\n",
    "\n",
    "model.add(Dense(n_features))\n",
    "model.compile(optimizer='adam', loss=LOSS_FUNCTION)\n",
    "# model.compile(loss='cosine_proximity', optimizer='sgd')\n"
   ]
  },
  {
   "cell_type": "code",
   "execution_count": 115,
   "metadata": {
    "scrolled": false
   },
   "outputs": [
    {
     "name": "stdout",
     "output_type": "stream",
     "text": [
      "Epoch 1/10\n",
      "1970/1970 [==============================] - 2s 1ms/sample - loss: 8.5214\n",
      "Epoch 2/10\n",
      "1970/1970 [==============================] - 0s 209us/sample - loss: 4.4689\n",
      "Epoch 3/10\n",
      "1970/1970 [==============================] - 0s 207us/sample - loss: 2.9152\n",
      "Epoch 4/10\n",
      "1970/1970 [==============================] - 0s 205us/sample - loss: 2.1248\n",
      "Epoch 5/10\n",
      "1970/1970 [==============================] - 0s 205us/sample - loss: 1.6704\n",
      "Epoch 6/10\n",
      "1970/1970 [==============================] - 0s 203us/sample - loss: 1.4074\n",
      "Epoch 7/10\n",
      "1970/1970 [==============================] - 0s 202us/sample - loss: 1.2283\n",
      "Epoch 8/10\n",
      "1970/1970 [==============================] - 0s 198us/sample - loss: 1.1044\n",
      "Epoch 9/10\n",
      "1970/1970 [==============================] - 0s 197us/sample - loss: 1.0074\n",
      "Epoch 10/10\n",
      "1970/1970 [==============================] - 0s 198us/sample - loss: 0.9343\n"
     ]
    }
   ],
   "source": [
    "history = model.fit(X_train, y_train, epochs=10, verbose=1)"
   ]
  },
  {
   "cell_type": "code",
   "execution_count": 57,
   "metadata": {
    "scrolled": true
   },
   "outputs": [
    {
     "data": {
      "text/plain": [
       "[<matplotlib.lines.Line2D at 0x2899961bf48>]"
      ]
     },
     "execution_count": 57,
     "metadata": {},
     "output_type": "execute_result"
    },
    {
     "data": {
      "image/png": "[encoded data removed]",
      "text/plain": [
       "<Figure size 432x288 with 1 Axes>"
      ]
     },
     "metadata": {
      "needs_background": "light"
     },
     "output_type": "display_data"
    }
   ],
   "source": [
    "plt.plot(history.history[\"loss\"])"
   ]
  },
  {
   "cell_type": "code",
   "execution_count": 58,
   "metadata": {},
   "outputs": [
    {
     "data": {
      "text/plain": [
       "492"
      ]
     },
     "execution_count": 58,
     "metadata": {},
     "output_type": "execute_result"
    }
   ],
   "source": [
    "len(y_test)"
   ]
  },
  {
   "cell_type": "code",
   "execution_count": 86,
   "metadata": {},
   "outputs": [
    {
     "name": "stdout",
     "output_type": "stream",
     "text": [
      "380\n",
      "0.8494707224139085\n"
     ]
    },
    {
     "data": {
      "text/plain": [
       "[<matplotlib.lines.Line2D at 0x2899a1bcb08>]"
      ]
     },
     "execution_count": 86,
     "metadata": {},
     "output_type": "execute_result"
    },
    {
     "data": {
      "image/png": "[encoded data removed]",
      "text/plain": [
       "<Figure size 432x288 with 1 Axes>"
      ]
     },
     "metadata": {
      "needs_background": "light"
     },
     "output_type": "display_data"
    }
   ],
   "source": [
    "from scipy import spatial\n",
    "\n",
    "i = np.random.choice(list(range(len(y_test))))\n",
    "print(i)\n",
    "\n",
    "x1pred = model.predict(X_test)[i]\n",
    "y1targ = y_test[i]\n",
    "cosine_similarity = 1 - spatial.distance.cosine(x1pred, y1targ)\n",
    "print(cosine_similarity)\n",
    "\n",
    "plt.plot(x1pred, c=\"red\")\n",
    "\n",
    "plt.plot(y1targ)"
   ]
  },
  {
   "cell_type": "code",
   "execution_count": 69,
   "metadata": {
    "scrolled": false
   },
   "outputs": [
    {
     "name": "stdout",
     "output_type": "stream",
     "text": [
      "\t 0/492: 0.0\n",
      "\t 50/492: 86.49339863831071\n",
      "\t 100/492: 88.76544977039512\n",
      "\t 150/492: 89.45709332085853\n",
      "\t 200/492: 89.76242792457897\n",
      "\t 250/492: 89.9984526777982\n",
      "\t 300/492: 89.37264291564792\n",
      "\t 350/492: 89.39112789695524\n",
      "\t 400/492: 89.36441972161441\n",
      "\t 450/492: 89.97539440696768\n"
     ]
    }
   ],
   "source": [
    "import random\n",
    "total_success = 0\n",
    "len_test = len(y_test)\n",
    "\n",
    "rand_indices = np.arange(len_test)\n",
    "np.random.shuffle(rand_indices)\n",
    "\n",
    "for i in range(len_test):\n",
    "    if i % 50 == 0:\n",
    "        print(\"\\t {0}/{1}: {2}\".format(i, len_test, total_success/(i + 1)))\n",
    "    ri = rand_indices[i]\n",
    "    x1pred = model.predict(X_test)[ri]\n",
    "    y1targ = y_test[ri]\n",
    "    cosine_similarity = 1 - spatial.distance.cosine(x1pred, y1targ)\n",
    "    success = cosine_similarity * 100\n",
    "    total_success += success"
   ]
  },
  {
   "cell_type": "code",
   "execution_count": 209,
   "metadata": {},
   "outputs": [
    {
     "data": {
      "text/plain": [
       "[<matplotlib.lines.Line2D at 0x2899d3a8248>]"
      ]
     },
     "execution_count": 209,
     "metadata": {},
     "output_type": "execute_result"
    },
    {
     "data": {
      "image/png": "[encoded data removed]",
      "text/plain": [
       "<Figure size 432x288 with 1 Axes>"
      ]
     },
     "metadata": {
      "needs_background": "light"
     },
     "output_type": "display_data"
    }
   ],
   "source": [
    "import random\n",
    "yz = 10\n",
    "nz = 20 - yz\n",
    "x0 = list(range(10)) + list([0 for _ in range(nz)])\n",
    "y0 = [0] + list(np.random.randint(-10, 10, yz - 1)) + list([0 for _ in range(nz)])\n",
    "a0 = [0*np.pi for _ in range(20)]\n",
    "\n",
    "def rnd(i):\n",
    "    speedup = random.choice([1, 0])\n",
    "    if speedup == 0:\n",
    "        output = i * 1 + 0+ random.choice([1, 0])*0.2\n",
    "    else:\n",
    "        speedup_factor = random.choice((np.linspace(1,1.5,10)))\n",
    "        \n",
    "        output = i * speedup_factor\n",
    "    return output\n",
    "\n",
    "def new_row(y0):\n",
    "    y1 = [0] + [rnd(i) for i in y0[1:]]\n",
    "    return y1\n",
    "\n",
    "\n",
    "r0 = x0 + y0 + a0\n",
    "y1 = new_row(y0)\n",
    "y2 = new_row(y1)\n",
    "y3 = new_row(y2)\n",
    "r1 = x0 + y1 + a0\n",
    "r2 = x0 + y2 + a0\n",
    "r3 = x0 + y3 + a0\n",
    "\n",
    "\n",
    "rx  =  np.array([[r0, r1]])\n",
    "rxy = model.predict(rx)[0]\n",
    "\n",
    "plt.plot(r2)\n",
    "\n",
    "plt.plot(rxy, c=\"red\")"
   ]
  },
  {
   "cell_type": "markdown",
   "metadata": {},
   "source": [
    "plt.plot(r0)\n",
    "\n",
    "plt.plot(r3, c=\"red\")"
   ]
  },
  {
   "cell_type": "code",
   "execution_count": 204,
   "metadata": {},
   "outputs": [
    {
     "data": {
      "text/plain": [
       "[<matplotlib.lines.Line2D at 0x2899d1c9c08>]"
      ]
     },
     "execution_count": 204,
     "metadata": {},
     "output_type": "execute_result"
    },
    {
     "data": {
      "image/png": "[encoded data removed]",
      "text/plain": [
       "<Figure size 432x288 with 1 Axes>"
      ]
     },
     "metadata": {
      "needs_background": "light"
     },
     "output_type": "display_data"
    }
   ],
   "source": [
    "rx  =  np.array([[r0, r1]])\n",
    "rxy = model.predict(rx)[0]\n",
    "\n",
    "plt.plot(r2)\n",
    "\n",
    "plt.plot(rxy, c=\"red\")"
   ]
  },
  {
   "cell_type": "code",
   "execution_count": 123,
   "metadata": {},
   "outputs": [
    {
     "data": {
      "text/plain": [
       "0.7405460255188341"
      ]
     },
     "execution_count": 123,
     "metadata": {},
     "output_type": "execute_result"
    }
   ],
   "source": [
    "1 - spatial.distance.cosine(rxy, r2)"
   ]
  },
  {
   "cell_type": "code",
   "execution_count": 124,
   "metadata": {},
   "outputs": [
    {
     "data": {
      "text/plain": [
       "0.6864897735226608"
      ]
     },
     "execution_count": 124,
     "metadata": {},
     "output_type": "execute_result"
    },
    {
     "data": {
      "image/png": "[encoded data removed]",
      "text/plain": [
       "<Figure size 432x288 with 1 Axes>"
      ]
     },
     "metadata": {
      "needs_background": "light"
     },
     "output_type": "display_data"
    }
   ],
   "source": [
    "rx2  =  np.array([[r1, rxy]])\n",
    "rx2y = model.predict(rx2)[0]\n",
    "plt.plot(r3)\n",
    "plt.plot(rx2y, c=\"red\")\n",
    "1 - spatial.distance.cosine(rx2y, r3)"
   ]
  },
  {
   "cell_type": "code",
   "execution_count": null,
   "metadata": {},
   "outputs": [],
   "source": []
  }
 ],
 "metadata": {
  "kernelspec": {
   "display_name": "Python 3",
   "language": "python",
   "name": "python3"
  },
  "language_info": {
   "codemirror_mode": {
    "name": "ipython",
    "version": 3
   },
   "file_extension": ".py",
   "mimetype": "text/x-python",
   "name": "python",
   "nbconvert_exporter": "python",
   "pygments_lexer": "ipython3",
   "version": "3.7.4"
  },
  "widgets": {
   "application/vnd.jupyter.widget-state+json": {
    "state": {},
    "version_major": 2,
    "version_minor": 0
   }
  }
 },
 "nbformat": 4,
 "nbformat_minor": 2
}
