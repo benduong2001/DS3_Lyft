{
 "cells": [
  {
   "cell_type": "markdown",
   "metadata": {},
   "source": [
    "Rand Agent Table with RNN for Time Series:\n",
    "\n",
    "MODEL 4\n",
    "\n",
    "\n",
    "* For agents with type Car only\n",
    "* For all scenes \n",
    "* 20 most frequent agents only\n",
    "* zero-padded (front padding included)"
   ]
  },
  {
   "cell_type": "markdown",
   "metadata": {},
   "source": [
    "Look at this for more info on multiple parallel series with RNN: https://machinelearningmastery.com/how-to-develop-lstm-models-for-time-series-forecasting/"
   ]
  },
  {
   "cell_type": "code",
   "execution_count": 1,
   "metadata": {
    "scrolled": true
   },
   "outputs": [
    {
     "name": "stderr",
     "output_type": "stream",
     "text": [
      "Using TensorFlow backend.\n",
      "E:\\app\\anaconda\\lib\\site-packages\\tensorflow\\python\\framework\\dtypes.py:516: FutureWarning: Passing (type, 1) or '1type' as a synonym of type is deprecated; in a future version of numpy, it will be understood as (type, (1,)) / '(1,)type'.\n",
      "  _np_qint8 = np.dtype([(\"qint8\", np.int8, 1)])\n",
      "E:\\app\\anaconda\\lib\\site-packages\\tensorflow\\python\\framework\\dtypes.py:517: FutureWarning: Passing (type, 1) or '1type' as a synonym of type is deprecated; in a future version of numpy, it will be understood as (type, (1,)) / '(1,)type'.\n",
      "  _np_quint8 = np.dtype([(\"quint8\", np.uint8, 1)])\n",
      "E:\\app\\anaconda\\lib\\site-packages\\tensorflow\\python\\framework\\dtypes.py:518: FutureWarning: Passing (type, 1) or '1type' as a synonym of type is deprecated; in a future version of numpy, it will be understood as (type, (1,)) / '(1,)type'.\n",
      "  _np_qint16 = np.dtype([(\"qint16\", np.int16, 1)])\n",
      "E:\\app\\anaconda\\lib\\site-packages\\tensorflow\\python\\framework\\dtypes.py:519: FutureWarning: Passing (type, 1) or '1type' as a synonym of type is deprecated; in a future version of numpy, it will be understood as (type, (1,)) / '(1,)type'.\n",
      "  _np_quint16 = np.dtype([(\"quint16\", np.uint16, 1)])\n",
      "E:\\app\\anaconda\\lib\\site-packages\\tensorflow\\python\\framework\\dtypes.py:520: FutureWarning: Passing (type, 1) or '1type' as a synonym of type is deprecated; in a future version of numpy, it will be understood as (type, (1,)) / '(1,)type'.\n",
      "  _np_qint32 = np.dtype([(\"qint32\", np.int32, 1)])\n",
      "E:\\app\\anaconda\\lib\\site-packages\\tensorflow\\python\\framework\\dtypes.py:525: FutureWarning: Passing (type, 1) or '1type' as a synonym of type is deprecated; in a future version of numpy, it will be understood as (type, (1,)) / '(1,)type'.\n",
      "  np_resource = np.dtype([(\"resource\", np.ubyte, 1)])\n",
      "E:\\app\\anaconda\\lib\\site-packages\\tensorboard\\compat\\tensorflow_stub\\dtypes.py:541: FutureWarning: Passing (type, 1) or '1type' as a synonym of type is deprecated; in a future version of numpy, it will be understood as (type, (1,)) / '(1,)type'.\n",
      "  _np_qint8 = np.dtype([(\"qint8\", np.int8, 1)])\n",
      "E:\\app\\anaconda\\lib\\site-packages\\tensorboard\\compat\\tensorflow_stub\\dtypes.py:542: FutureWarning: Passing (type, 1) or '1type' as a synonym of type is deprecated; in a future version of numpy, it will be understood as (type, (1,)) / '(1,)type'.\n",
      "  _np_quint8 = np.dtype([(\"quint8\", np.uint8, 1)])\n",
      "E:\\app\\anaconda\\lib\\site-packages\\tensorboard\\compat\\tensorflow_stub\\dtypes.py:543: FutureWarning: Passing (type, 1) or '1type' as a synonym of type is deprecated; in a future version of numpy, it will be understood as (type, (1,)) / '(1,)type'.\n",
      "  _np_qint16 = np.dtype([(\"qint16\", np.int16, 1)])\n",
      "E:\\app\\anaconda\\lib\\site-packages\\tensorboard\\compat\\tensorflow_stub\\dtypes.py:544: FutureWarning: Passing (type, 1) or '1type' as a synonym of type is deprecated; in a future version of numpy, it will be understood as (type, (1,)) / '(1,)type'.\n",
      "  _np_quint16 = np.dtype([(\"quint16\", np.uint16, 1)])\n",
      "E:\\app\\anaconda\\lib\\site-packages\\tensorboard\\compat\\tensorflow_stub\\dtypes.py:545: FutureWarning: Passing (type, 1) or '1type' as a synonym of type is deprecated; in a future version of numpy, it will be understood as (type, (1,)) / '(1,)type'.\n",
      "  _np_qint32 = np.dtype([(\"qint32\", np.int32, 1)])\n",
      "E:\\app\\anaconda\\lib\\site-packages\\tensorboard\\compat\\tensorflow_stub\\dtypes.py:550: FutureWarning: Passing (type, 1) or '1type' as a synonym of type is deprecated; in a future version of numpy, it will be understood as (type, (1,)) / '(1,)type'.\n",
      "  np_resource = np.dtype([(\"resource\", np.ubyte, 1)])\n"
     ]
    }
   ],
   "source": [
    "import keras\n",
    "import tensorflow as tf"
   ]
  },
  {
   "cell_type": "code",
   "execution_count": 2,
   "metadata": {},
   "outputs": [],
   "source": [
    "from tensorflow.keras.layers import Dense\n",
    "from tensorflow.keras import Sequential\n",
    "from tensorflow.keras.layers import LSTM\n",
    "from tensorflow.keras.layers import SimpleRNN\n",
    "from tensorflow.keras.layers import Dropout"
   ]
  },
  {
   "cell_type": "code",
   "execution_count": 3,
   "metadata": {},
   "outputs": [],
   "source": [
    "import pandas as pd\n",
    "import numpy as np"
   ]
  },
  {
   "cell_type": "code",
   "execution_count": 4,
   "metadata": {},
   "outputs": [],
   "source": [
    "folderpath = \".\"\n",
    "file = folderpath + \"/lyftlong/rand_agents_table0.csv\"\n",
    "at = pd.read_csv(file)\n",
    "file = folderpath + \"/lyftlong/rand_frames_table1.csv\"\n",
    "ft = pd.read_csv(file)\n",
    "file = folderpath +  \"/lyftlong/rand_scenes_table1.csv\"\n",
    "st = pd.read_csv(file)"
   ]
  },
  {
   "cell_type": "code",
   "execution_count": 5,
   "metadata": {},
   "outputs": [],
   "source": [
    "at = at.merge(ft[['frame_index', 'scene_index']], on='frame_index')"
   ]
  },
  {
   "cell_type": "code",
   "execution_count": 6,
   "metadata": {},
   "outputs": [],
   "source": [
    "at = at[at.PERCEPTION_LABEL_CAR == 1] \n",
    "# FEATURE: filter to only types with Car; uncomment the above to include all agent types"
   ]
  },
  {
   "cell_type": "code",
   "execution_count": 7,
   "metadata": {},
   "outputs": [],
   "source": [
    "atcols = ['centroid_x', 'centroid_y', 'track_id', 'frame_index', 'scene_index']"
   ]
  },
  {
   "cell_type": "code",
   "execution_count": 8,
   "metadata": {},
   "outputs": [],
   "source": [
    "atrnn = at[atcols]"
   ]
  },
  {
   "cell_type": "code",
   "execution_count": 9,
   "metadata": {},
   "outputs": [],
   "source": [
    "scene_indices = pd.unique(at['scene_index'])"
   ]
  },
  {
   "cell_type": "code",
   "execution_count": 10,
   "metadata": {},
   "outputs": [],
   "source": [
    "atrnn1 = atrnn[atrnn.scene_index == scene_indices[10]]"
   ]
  },
  {
   "cell_type": "code",
   "execution_count": 12,
   "metadata": {},
   "outputs": [
    {
     "data": {
      "text/html": [
       "<div>\n",
       "<style scoped>\n",
       "    .dataframe tbody tr th:only-of-type {\n",
       "        vertical-align: middle;\n",
       "    }\n",
       "\n",
       "    .dataframe tbody tr th {\n",
       "        vertical-align: top;\n",
       "    }\n",
       "\n",
       "    .dataframe thead th {\n",
       "        text-align: right;\n",
       "    }\n",
       "</style>\n",
       "<table border=\"1\" class=\"dataframe\">\n",
       "  <thead>\n",
       "    <tr style=\"text-align: right;\">\n",
       "      <th></th>\n",
       "      <th>centroid_x</th>\n",
       "      <th>centroid_y</th>\n",
       "      <th>track_id</th>\n",
       "      <th>frame_index</th>\n",
       "      <th>scene_index</th>\n",
       "    </tr>\n",
       "  </thead>\n",
       "  <tbody>\n",
       "    <tr>\n",
       "      <th>186206</th>\n",
       "      <td>692.800476</td>\n",
       "      <td>-1370.700928</td>\n",
       "      <td>1</td>\n",
       "      <td>306162</td>\n",
       "      <td>1233</td>\n",
       "    </tr>\n",
       "    <tr>\n",
       "      <th>186207</th>\n",
       "      <td>725.804993</td>\n",
       "      <td>-1385.745117</td>\n",
       "      <td>2</td>\n",
       "      <td>306162</td>\n",
       "      <td>1233</td>\n",
       "    </tr>\n",
       "    <tr>\n",
       "      <th>186208</th>\n",
       "      <td>689.145996</td>\n",
       "      <td>-1375.814331</td>\n",
       "      <td>3</td>\n",
       "      <td>306162</td>\n",
       "      <td>1233</td>\n",
       "    </tr>\n",
       "    <tr>\n",
       "      <th>186209</th>\n",
       "      <td>676.625244</td>\n",
       "      <td>-1360.584961</td>\n",
       "      <td>4</td>\n",
       "      <td>306162</td>\n",
       "      <td>1233</td>\n",
       "    </tr>\n",
       "    <tr>\n",
       "      <th>186210</th>\n",
       "      <td>647.278381</td>\n",
       "      <td>-1374.638184</td>\n",
       "      <td>5</td>\n",
       "      <td>306162</td>\n",
       "      <td>1233</td>\n",
       "    </tr>\n",
       "    <tr>\n",
       "      <th>...</th>\n",
       "      <td>...</td>\n",
       "      <td>...</td>\n",
       "      <td>...</td>\n",
       "      <td>...</td>\n",
       "      <td>...</td>\n",
       "    </tr>\n",
       "    <tr>\n",
       "      <th>202597</th>\n",
       "      <td>960.734802</td>\n",
       "      <td>-1547.492065</td>\n",
       "      <td>3</td>\n",
       "      <td>306406</td>\n",
       "      <td>1233</td>\n",
       "    </tr>\n",
       "    <tr>\n",
       "      <th>202680</th>\n",
       "      <td>961.751038</td>\n",
       "      <td>-1548.127563</td>\n",
       "      <td>3</td>\n",
       "      <td>306407</td>\n",
       "      <td>1233</td>\n",
       "    </tr>\n",
       "    <tr>\n",
       "      <th>202760</th>\n",
       "      <td>962.582214</td>\n",
       "      <td>-1548.629639</td>\n",
       "      <td>3</td>\n",
       "      <td>306408</td>\n",
       "      <td>1233</td>\n",
       "    </tr>\n",
       "    <tr>\n",
       "      <th>202844</th>\n",
       "      <td>963.673706</td>\n",
       "      <td>-1549.282715</td>\n",
       "      <td>3</td>\n",
       "      <td>306409</td>\n",
       "      <td>1233</td>\n",
       "    </tr>\n",
       "    <tr>\n",
       "      <th>202924</th>\n",
       "      <td>964.767517</td>\n",
       "      <td>-1549.958618</td>\n",
       "      <td>3</td>\n",
       "      <td>306410</td>\n",
       "      <td>1233</td>\n",
       "    </tr>\n",
       "  </tbody>\n",
       "</table>\n",
       "<p>2223 rows × 5 columns</p>\n",
       "</div>"
      ],
      "text/plain": [
       "        centroid_x   centroid_y  track_id  frame_index  scene_index\n",
       "186206  692.800476 -1370.700928         1       306162         1233\n",
       "186207  725.804993 -1385.745117         2       306162         1233\n",
       "186208  689.145996 -1375.814331         3       306162         1233\n",
       "186209  676.625244 -1360.584961         4       306162         1233\n",
       "186210  647.278381 -1374.638184         5       306162         1233\n",
       "...            ...          ...       ...          ...          ...\n",
       "202597  960.734802 -1547.492065         3       306406         1233\n",
       "202680  961.751038 -1548.127563         3       306407         1233\n",
       "202760  962.582214 -1548.629639         3       306408         1233\n",
       "202844  963.673706 -1549.282715         3       306409         1233\n",
       "202924  964.767517 -1549.958618         3       306410         1233\n",
       "\n",
       "[2223 rows x 5 columns]"
      ]
     },
     "execution_count": 12,
     "metadata": {},
     "output_type": "execute_result"
    }
   ],
   "source": [
    "atrnn1"
   ]
  },
  {
   "cell_type": "code",
   "execution_count": 13,
   "metadata": {},
   "outputs": [],
   "source": [
    "agent_parallel_input_series = pd.DataFrame()\n",
    "apis = agent_parallel_input_series\n",
    "# apis will be the dataframe that we will partiton for the rnn data table information\n",
    "\n",
    "atrnn1s = atrnn1 #.sort_values(['track_id', 'frame_index'])\n",
    "\n",
    "track_ids = pd.unique(atrnn1s['track_id'])\n",
    "NUM_ENTITIES = len(track_ids)"
   ]
  },
  {
   "cell_type": "code",
   "execution_count": 14,
   "metadata": {
    "scrolled": true
   },
   "outputs": [],
   "source": [
    "# FEATURE: We will only take the 20 most frequent track ids. Set N_MOST_FREQUENT to NUM_ENTITIES if you don't want that\n",
    "\n",
    "freq_track_ids = atrnn1s.groupby(['track_id']).count().reset_index()\n",
    "\n",
    "N_MOST_FREQUENT = 20 # NUM_ENTITIES\n",
    "assert N_MOST_FREQUENT <= NUM_ENTITIES\n",
    "def get_n_most_frequent(n: int = NUM_ENTITIES):\n",
    "    \"\"\" get's track ids of the n most frequent entities in a scene.\"\"\"\n",
    "    global freq_track_ids\n",
    "    freq_track_ids = freq_track_ids.sort_values('frame_index', ascending=False)\n",
    "    return freq_track_ids['track_id'].iloc[:20].values\n",
    "track_ids = get_n_most_frequent(N_MOST_FREQUENT)"
   ]
  },
  {
   "cell_type": "code",
   "execution_count": 15,
   "metadata": {},
   "outputs": [],
   "source": [
    "apis_cols = ['centroid_x', 'centroid_y'] + ['frame_index'] #  ['velocity_x', 'velocity_y'] +  ['frame_index'] + ['area']"
   ]
  },
  {
   "cell_type": "code",
   "execution_count": 16,
   "metadata": {},
   "outputs": [],
   "source": [
    "apis_frame_indices = pd.unique(atrnn1['frame_index'])"
   ]
  },
  {
   "cell_type": "code",
   "execution_count": 17,
   "metadata": {},
   "outputs": [],
   "source": [
    "apis['frame_index'] = apis_frame_indices # added to the apis table so that each agent can be merged "
   ]
  },
  {
   "cell_type": "code",
   "execution_count": 18,
   "metadata": {
    "scrolled": true
   },
   "outputs": [
    {
     "name": "stdout",
     "output_type": "stream",
     "text": [
      "0 of 20\n"
     ]
    }
   ],
   "source": [
    "for i in range(len(track_ids)):\n",
    "    if i%100 == 0:\n",
    "        print(\"{0} of {1}\".format(i, len(track_ids)))\n",
    "    ti = track_ids[i]\n",
    "    # for each track id, get it's subset in atrnn1s\n",
    "    atrnn1sti = atrnn1s[atrnn1s.track_id == ti]\n",
    "    # get these columns only\n",
    "    atrnn1sti = atrnn1sti[apis_cols]\n",
    "    # rename the columns by labelling it with it's track id\n",
    "    atrnn1sti = atrnn1sti.add_prefix('ti{0}_'.format(str(ti)))\n",
    "    # undo apis index's renaming for joining to apis\n",
    "    atrnn1sti.rename(columns = {\"ti{0}_frame_index\".format(str(ti)): \"frame_index\"},  \n",
    "                     inplace = True) \n",
    "    # LEFT OUTER JOIN with APIS, atrnn1sti\n",
    "    apis = pd.merge(apis, atrnn1sti, on='frame_index', how='left')"
   ]
  },
  {
   "cell_type": "code",
   "execution_count": 19,
   "metadata": {},
   "outputs": [],
   "source": [
    "apis = apis.drop(['frame_index'], axis=1)"
   ]
  },
  {
   "cell_type": "code",
   "execution_count": 20,
   "metadata": {},
   "outputs": [
    {
     "data": {
      "text/html": [
       "<div>\n",
       "<style scoped>\n",
       "    .dataframe tbody tr th:only-of-type {\n",
       "        vertical-align: middle;\n",
       "    }\n",
       "\n",
       "    .dataframe tbody tr th {\n",
       "        vertical-align: top;\n",
       "    }\n",
       "\n",
       "    .dataframe thead th {\n",
       "        text-align: right;\n",
       "    }\n",
       "</style>\n",
       "<table border=\"1\" class=\"dataframe\">\n",
       "  <thead>\n",
       "    <tr style=\"text-align: right;\">\n",
       "      <th></th>\n",
       "      <th>ti3_centroid_x</th>\n",
       "      <th>ti3_centroid_y</th>\n",
       "      <th>ti919_centroid_x</th>\n",
       "      <th>ti919_centroid_y</th>\n",
       "      <th>ti1_centroid_x</th>\n",
       "      <th>ti1_centroid_y</th>\n",
       "      <th>ti8_centroid_x</th>\n",
       "      <th>ti8_centroid_y</th>\n",
       "      <th>ti184_centroid_x</th>\n",
       "      <th>ti184_centroid_y</th>\n",
       "      <th>...</th>\n",
       "      <th>ti13_centroid_x</th>\n",
       "      <th>ti13_centroid_y</th>\n",
       "      <th>ti739_centroid_x</th>\n",
       "      <th>ti739_centroid_y</th>\n",
       "      <th>ti104_centroid_x</th>\n",
       "      <th>ti104_centroid_y</th>\n",
       "      <th>ti143_centroid_x</th>\n",
       "      <th>ti143_centroid_y</th>\n",
       "      <th>ti780_centroid_x</th>\n",
       "      <th>ti780_centroid_y</th>\n",
       "    </tr>\n",
       "  </thead>\n",
       "  <tbody>\n",
       "    <tr>\n",
       "      <th>0</th>\n",
       "      <td>689.145996</td>\n",
       "      <td>-1375.814331</td>\n",
       "      <td>NaN</td>\n",
       "      <td>NaN</td>\n",
       "      <td>692.800476</td>\n",
       "      <td>-1370.700928</td>\n",
       "      <td>651.313904</td>\n",
       "      <td>-1349.105713</td>\n",
       "      <td>NaN</td>\n",
       "      <td>NaN</td>\n",
       "      <td>...</td>\n",
       "      <td>664.939941</td>\n",
       "      <td>-1326.213501</td>\n",
       "      <td>NaN</td>\n",
       "      <td>NaN</td>\n",
       "      <td>NaN</td>\n",
       "      <td>NaN</td>\n",
       "      <td>NaN</td>\n",
       "      <td>NaN</td>\n",
       "      <td>NaN</td>\n",
       "      <td>NaN</td>\n",
       "    </tr>\n",
       "    <tr>\n",
       "      <th>1</th>\n",
       "      <td>691.124390</td>\n",
       "      <td>-1377.168457</td>\n",
       "      <td>NaN</td>\n",
       "      <td>NaN</td>\n",
       "      <td>692.172546</td>\n",
       "      <td>-1370.346069</td>\n",
       "      <td>651.312134</td>\n",
       "      <td>-1349.097168</td>\n",
       "      <td>NaN</td>\n",
       "      <td>NaN</td>\n",
       "      <td>...</td>\n",
       "      <td>664.962952</td>\n",
       "      <td>-1326.096436</td>\n",
       "      <td>NaN</td>\n",
       "      <td>NaN</td>\n",
       "      <td>NaN</td>\n",
       "      <td>NaN</td>\n",
       "      <td>NaN</td>\n",
       "      <td>NaN</td>\n",
       "      <td>NaN</td>\n",
       "      <td>NaN</td>\n",
       "    </tr>\n",
       "    <tr>\n",
       "      <th>2</th>\n",
       "      <td>692.187500</td>\n",
       "      <td>-1377.882568</td>\n",
       "      <td>NaN</td>\n",
       "      <td>NaN</td>\n",
       "      <td>691.065918</td>\n",
       "      <td>-1369.599731</td>\n",
       "      <td>651.319641</td>\n",
       "      <td>-1349.092651</td>\n",
       "      <td>NaN</td>\n",
       "      <td>NaN</td>\n",
       "      <td>...</td>\n",
       "      <td>664.859680</td>\n",
       "      <td>-1325.897095</td>\n",
       "      <td>NaN</td>\n",
       "      <td>NaN</td>\n",
       "      <td>NaN</td>\n",
       "      <td>NaN</td>\n",
       "      <td>NaN</td>\n",
       "      <td>NaN</td>\n",
       "      <td>NaN</td>\n",
       "      <td>NaN</td>\n",
       "    </tr>\n",
       "    <tr>\n",
       "      <th>3</th>\n",
       "      <td>693.238525</td>\n",
       "      <td>-1378.630859</td>\n",
       "      <td>NaN</td>\n",
       "      <td>NaN</td>\n",
       "      <td>690.384094</td>\n",
       "      <td>-1369.178833</td>\n",
       "      <td>651.310242</td>\n",
       "      <td>-1349.093262</td>\n",
       "      <td>NaN</td>\n",
       "      <td>NaN</td>\n",
       "      <td>...</td>\n",
       "      <td>664.943237</td>\n",
       "      <td>-1325.433472</td>\n",
       "      <td>NaN</td>\n",
       "      <td>NaN</td>\n",
       "      <td>NaN</td>\n",
       "      <td>NaN</td>\n",
       "      <td>NaN</td>\n",
       "      <td>NaN</td>\n",
       "      <td>NaN</td>\n",
       "      <td>NaN</td>\n",
       "    </tr>\n",
       "    <tr>\n",
       "      <th>4</th>\n",
       "      <td>694.389648</td>\n",
       "      <td>-1379.216675</td>\n",
       "      <td>NaN</td>\n",
       "      <td>NaN</td>\n",
       "      <td>689.790222</td>\n",
       "      <td>-1368.812622</td>\n",
       "      <td>651.306213</td>\n",
       "      <td>-1349.086426</td>\n",
       "      <td>NaN</td>\n",
       "      <td>NaN</td>\n",
       "      <td>...</td>\n",
       "      <td>665.131287</td>\n",
       "      <td>-1325.381958</td>\n",
       "      <td>NaN</td>\n",
       "      <td>NaN</td>\n",
       "      <td>NaN</td>\n",
       "      <td>NaN</td>\n",
       "      <td>NaN</td>\n",
       "      <td>NaN</td>\n",
       "      <td>NaN</td>\n",
       "      <td>NaN</td>\n",
       "    </tr>\n",
       "    <tr>\n",
       "      <th>...</th>\n",
       "      <td>...</td>\n",
       "      <td>...</td>\n",
       "      <td>...</td>\n",
       "      <td>...</td>\n",
       "      <td>...</td>\n",
       "      <td>...</td>\n",
       "      <td>...</td>\n",
       "      <td>...</td>\n",
       "      <td>...</td>\n",
       "      <td>...</td>\n",
       "      <td>...</td>\n",
       "      <td>...</td>\n",
       "      <td>...</td>\n",
       "      <td>...</td>\n",
       "      <td>...</td>\n",
       "      <td>...</td>\n",
       "      <td>...</td>\n",
       "      <td>...</td>\n",
       "      <td>...</td>\n",
       "      <td>...</td>\n",
       "      <td>...</td>\n",
       "    </tr>\n",
       "    <tr>\n",
       "      <th>244</th>\n",
       "      <td>960.734802</td>\n",
       "      <td>-1547.492065</td>\n",
       "      <td>NaN</td>\n",
       "      <td>NaN</td>\n",
       "      <td>NaN</td>\n",
       "      <td>NaN</td>\n",
       "      <td>NaN</td>\n",
       "      <td>NaN</td>\n",
       "      <td>NaN</td>\n",
       "      <td>NaN</td>\n",
       "      <td>...</td>\n",
       "      <td>NaN</td>\n",
       "      <td>NaN</td>\n",
       "      <td>NaN</td>\n",
       "      <td>NaN</td>\n",
       "      <td>NaN</td>\n",
       "      <td>NaN</td>\n",
       "      <td>NaN</td>\n",
       "      <td>NaN</td>\n",
       "      <td>NaN</td>\n",
       "      <td>NaN</td>\n",
       "    </tr>\n",
       "    <tr>\n",
       "      <th>245</th>\n",
       "      <td>961.751038</td>\n",
       "      <td>-1548.127563</td>\n",
       "      <td>NaN</td>\n",
       "      <td>NaN</td>\n",
       "      <td>NaN</td>\n",
       "      <td>NaN</td>\n",
       "      <td>NaN</td>\n",
       "      <td>NaN</td>\n",
       "      <td>NaN</td>\n",
       "      <td>NaN</td>\n",
       "      <td>...</td>\n",
       "      <td>NaN</td>\n",
       "      <td>NaN</td>\n",
       "      <td>NaN</td>\n",
       "      <td>NaN</td>\n",
       "      <td>NaN</td>\n",
       "      <td>NaN</td>\n",
       "      <td>NaN</td>\n",
       "      <td>NaN</td>\n",
       "      <td>NaN</td>\n",
       "      <td>NaN</td>\n",
       "    </tr>\n",
       "    <tr>\n",
       "      <th>246</th>\n",
       "      <td>962.582214</td>\n",
       "      <td>-1548.629639</td>\n",
       "      <td>NaN</td>\n",
       "      <td>NaN</td>\n",
       "      <td>NaN</td>\n",
       "      <td>NaN</td>\n",
       "      <td>NaN</td>\n",
       "      <td>NaN</td>\n",
       "      <td>NaN</td>\n",
       "      <td>NaN</td>\n",
       "      <td>...</td>\n",
       "      <td>NaN</td>\n",
       "      <td>NaN</td>\n",
       "      <td>NaN</td>\n",
       "      <td>NaN</td>\n",
       "      <td>NaN</td>\n",
       "      <td>NaN</td>\n",
       "      <td>NaN</td>\n",
       "      <td>NaN</td>\n",
       "      <td>NaN</td>\n",
       "      <td>NaN</td>\n",
       "    </tr>\n",
       "    <tr>\n",
       "      <th>247</th>\n",
       "      <td>963.673706</td>\n",
       "      <td>-1549.282715</td>\n",
       "      <td>NaN</td>\n",
       "      <td>NaN</td>\n",
       "      <td>NaN</td>\n",
       "      <td>NaN</td>\n",
       "      <td>NaN</td>\n",
       "      <td>NaN</td>\n",
       "      <td>NaN</td>\n",
       "      <td>NaN</td>\n",
       "      <td>...</td>\n",
       "      <td>NaN</td>\n",
       "      <td>NaN</td>\n",
       "      <td>NaN</td>\n",
       "      <td>NaN</td>\n",
       "      <td>NaN</td>\n",
       "      <td>NaN</td>\n",
       "      <td>NaN</td>\n",
       "      <td>NaN</td>\n",
       "      <td>NaN</td>\n",
       "      <td>NaN</td>\n",
       "    </tr>\n",
       "    <tr>\n",
       "      <th>248</th>\n",
       "      <td>964.767517</td>\n",
       "      <td>-1549.958618</td>\n",
       "      <td>NaN</td>\n",
       "      <td>NaN</td>\n",
       "      <td>NaN</td>\n",
       "      <td>NaN</td>\n",
       "      <td>NaN</td>\n",
       "      <td>NaN</td>\n",
       "      <td>NaN</td>\n",
       "      <td>NaN</td>\n",
       "      <td>...</td>\n",
       "      <td>NaN</td>\n",
       "      <td>NaN</td>\n",
       "      <td>NaN</td>\n",
       "      <td>NaN</td>\n",
       "      <td>NaN</td>\n",
       "      <td>NaN</td>\n",
       "      <td>NaN</td>\n",
       "      <td>NaN</td>\n",
       "      <td>NaN</td>\n",
       "      <td>NaN</td>\n",
       "    </tr>\n",
       "  </tbody>\n",
       "</table>\n",
       "<p>249 rows × 40 columns</p>\n",
       "</div>"
      ],
      "text/plain": [
       "     ti3_centroid_x  ti3_centroid_y  ti919_centroid_x  ti919_centroid_y  \\\n",
       "0        689.145996    -1375.814331               NaN               NaN   \n",
       "1        691.124390    -1377.168457               NaN               NaN   \n",
       "2        692.187500    -1377.882568               NaN               NaN   \n",
       "3        693.238525    -1378.630859               NaN               NaN   \n",
       "4        694.389648    -1379.216675               NaN               NaN   \n",
       "..              ...             ...               ...               ...   \n",
       "244      960.734802    -1547.492065               NaN               NaN   \n",
       "245      961.751038    -1548.127563               NaN               NaN   \n",
       "246      962.582214    -1548.629639               NaN               NaN   \n",
       "247      963.673706    -1549.282715               NaN               NaN   \n",
       "248      964.767517    -1549.958618               NaN               NaN   \n",
       "\n",
       "     ti1_centroid_x  ti1_centroid_y  ti8_centroid_x  ti8_centroid_y  \\\n",
       "0        692.800476    -1370.700928      651.313904    -1349.105713   \n",
       "1        692.172546    -1370.346069      651.312134    -1349.097168   \n",
       "2        691.065918    -1369.599731      651.319641    -1349.092651   \n",
       "3        690.384094    -1369.178833      651.310242    -1349.093262   \n",
       "4        689.790222    -1368.812622      651.306213    -1349.086426   \n",
       "..              ...             ...             ...             ...   \n",
       "244             NaN             NaN             NaN             NaN   \n",
       "245             NaN             NaN             NaN             NaN   \n",
       "246             NaN             NaN             NaN             NaN   \n",
       "247             NaN             NaN             NaN             NaN   \n",
       "248             NaN             NaN             NaN             NaN   \n",
       "\n",
       "     ti184_centroid_x  ti184_centroid_y  ...  ti13_centroid_x  \\\n",
       "0                 NaN               NaN  ...       664.939941   \n",
       "1                 NaN               NaN  ...       664.962952   \n",
       "2                 NaN               NaN  ...       664.859680   \n",
       "3                 NaN               NaN  ...       664.943237   \n",
       "4                 NaN               NaN  ...       665.131287   \n",
       "..                ...               ...  ...              ...   \n",
       "244               NaN               NaN  ...              NaN   \n",
       "245               NaN               NaN  ...              NaN   \n",
       "246               NaN               NaN  ...              NaN   \n",
       "247               NaN               NaN  ...              NaN   \n",
       "248               NaN               NaN  ...              NaN   \n",
       "\n",
       "     ti13_centroid_y  ti739_centroid_x  ti739_centroid_y  ti104_centroid_x  \\\n",
       "0       -1326.213501               NaN               NaN               NaN   \n",
       "1       -1326.096436               NaN               NaN               NaN   \n",
       "2       -1325.897095               NaN               NaN               NaN   \n",
       "3       -1325.433472               NaN               NaN               NaN   \n",
       "4       -1325.381958               NaN               NaN               NaN   \n",
       "..               ...               ...               ...               ...   \n",
       "244              NaN               NaN               NaN               NaN   \n",
       "245              NaN               NaN               NaN               NaN   \n",
       "246              NaN               NaN               NaN               NaN   \n",
       "247              NaN               NaN               NaN               NaN   \n",
       "248              NaN               NaN               NaN               NaN   \n",
       "\n",
       "     ti104_centroid_y  ti143_centroid_x  ti143_centroid_y  ti780_centroid_x  \\\n",
       "0                 NaN               NaN               NaN               NaN   \n",
       "1                 NaN               NaN               NaN               NaN   \n",
       "2                 NaN               NaN               NaN               NaN   \n",
       "3                 NaN               NaN               NaN               NaN   \n",
       "4                 NaN               NaN               NaN               NaN   \n",
       "..                ...               ...               ...               ...   \n",
       "244               NaN               NaN               NaN               NaN   \n",
       "245               NaN               NaN               NaN               NaN   \n",
       "246               NaN               NaN               NaN               NaN   \n",
       "247               NaN               NaN               NaN               NaN   \n",
       "248               NaN               NaN               NaN               NaN   \n",
       "\n",
       "     ti780_centroid_y  \n",
       "0                 NaN  \n",
       "1                 NaN  \n",
       "2                 NaN  \n",
       "3                 NaN  \n",
       "4                 NaN  \n",
       "..                ...  \n",
       "244               NaN  \n",
       "245               NaN  \n",
       "246               NaN  \n",
       "247               NaN  \n",
       "248               NaN  \n",
       "\n",
       "[249 rows x 40 columns]"
      ]
     },
     "execution_count": 20,
     "metadata": {},
     "output_type": "execute_result"
    }
   ],
   "source": [
    "apis\n",
    "# if you set N_MOST_FREQUENT to 20, there should be 40 columns only"
   ]
  },
  {
   "cell_type": "code",
   "execution_count": 21,
   "metadata": {},
   "outputs": [],
   "source": [
    "# FEATURE: replace all NaN's with zeros\n",
    "apis = apis.fillna(0)"
   ]
  },
  {
   "cell_type": "code",
   "execution_count": 22,
   "metadata": {},
   "outputs": [],
   "source": [
    "atrnn1 = apis"
   ]
  },
  {
   "cell_type": "code",
   "execution_count": 23,
   "metadata": {},
   "outputs": [],
   "source": [
    "def make_partitions(ar: np.array, step: int = 3) -> np.array:\n",
    "    len_ar = len(ar)\n",
    "    partitions = np.array([])\n",
    "    for i in range(len_ar - step):\n",
    "        X_partition = ar[i: i + step]\n",
    "        y_partition = ar[i + step]\n",
    "        partition = dict()\n",
    "        partition['X'] = ((X_partition))\n",
    "        partition['y'] = ((y_partition))\n",
    "        partitions = np.append(partitions, partition)\n",
    "    return partitions"
   ]
  },
  {
   "cell_type": "code",
   "execution_count": 24,
   "metadata": {},
   "outputs": [],
   "source": [
    "NSTEPS = 3"
   ]
  },
  {
   "cell_type": "code",
   "execution_count": 25,
   "metadata": {},
   "outputs": [],
   "source": [
    "partitions = make_partitions(np.array(atrnn1), NSTEPS)"
   ]
  },
  {
   "cell_type": "code",
   "execution_count": 26,
   "metadata": {},
   "outputs": [],
   "source": [
    "TRAIN_PROPORTION = 0.8\n",
    "TRAIN_PROPORTION_INDEXER = int(len(atrnn1) * 0.8)"
   ]
  },
  {
   "cell_type": "code",
   "execution_count": 27,
   "metadata": {},
   "outputs": [],
   "source": [
    "X_train = []\n",
    "y_train = []\n",
    "X_test = []\n",
    "y_test = []\n",
    "for i in range(len(partitions)): # [:TRAIN_PROPORTION_INDEXER]:\n",
    "    partition = partitions[i]\n",
    "    if i <= TRAIN_PROPORTION_INDEXER:\n",
    "        X_train.append(partition['X'])\n",
    "        y_train.append(partition['y'])\n",
    "    else:\n",
    "        X_test.append(partition['X'])\n",
    "        y_test.append(partition['y'])        \n",
    "X_train = np.array(X_train)\n",
    "y_train = np.array(y_train)\n",
    "X_test = np.array(X_test)\n",
    "y_test = np.array(y_test)"
   ]
  },
  {
   "cell_type": "code",
   "execution_count": 28,
   "metadata": {},
   "outputs": [
    {
     "name": "stdout",
     "output_type": "stream",
     "text": [
      "WARNING:tensorflow:From E:\\app\\anaconda\\lib\\site-packages\\tensorflow\\python\\ops\\init_ops.py:1251: calling VarianceScaling.__init__ (from tensorflow.python.ops.init_ops) with dtype is deprecated and will be removed in a future version.\n",
      "Instructions for updating:\n",
      "Call initializer instance with the dtype argument instead of passing it to the constructor\n",
      "WARNING:tensorflow:From E:\\app\\anaconda\\lib\\site-packages\\tensorflow\\python\\ops\\math_grad.py:1250: add_dispatch_support.<locals>.wrapper (from tensorflow.python.ops.array_ops) is deprecated and will be removed in a future version.\n",
      "Instructions for updating:\n",
      "Use tf.where in 2.0, which has the same broadcast rule as np.where\n"
     ]
    },
    {
     "data": {
      "text/plain": [
       "<tensorflow.python.keras.callbacks.History at 0x27149c89e48>"
      ]
     },
     "execution_count": 28,
     "metadata": {},
     "output_type": "execute_result"
    }
   ],
   "source": [
    "n_steps = NSTEPS\n",
    "n_features = len(atrnn1.columns)\n",
    "\n",
    "act = 'tanh'\n",
    "act1 = 'relu'\n",
    "recact = 'sigmoid'\n",
    "retseq = True\n",
    "\n",
    "#### define model\n",
    "model = Sequential()\n",
    "model.add(LSTM(100, activation=act, recurrent_activation=recact, return_sequences=retseq, input_shape=(n_steps, n_features)))\n",
    "model.add(LSTM(100, activation=act))\n",
    "model.add(Dense(n_features))\n",
    "model.compile(optimizer='adam', loss='mse')\n",
    "\n",
    "model.fit(X_train, y_train, epochs=300, verbose=0)"
   ]
  },
  {
   "cell_type": "code",
   "execution_count": 30,
   "metadata": {},
   "outputs": [
    {
     "name": "stdout",
     "output_type": "stream",
     "text": [
      "<tensorflow.python.keras.callbacks.History object at 0x0000027172954988>\n"
     ]
    }
   ],
   "source": [
    "model = Sequential()\n",
    "model.add(LSTM(100,input_shape=(X_train.shape[1], X_train.shape[2]), return_sequences = True))\n",
    "model.add(Dropout(0.2))\n",
    "model.add(LSTM(50, activation = 'tanh', return_sequences = True))\n",
    "model.add(Dropout(0.2))\n",
    "model.add(LSTM(25, activation = 'tanh', return_sequences = False))\n",
    "model.add(Dropout(0.2))\n",
    "model.add(Dense(y_train.shape[1]))\n",
    "model.compile(loss='mse', optimizer='adam', metrics = ['accuracy'])\n",
    "\n",
    "model_info = model.fit(X_train, y_train, epochs=300, verbose=0)\n",
    "print(model_info)"
   ]
  },
  {
   "cell_type": "code",
   "execution_count": 31,
   "metadata": {},
   "outputs": [],
   "source": [
    "x_inp = X_test[0]\n",
    "y_targ = y_test[0]"
   ]
  },
  {
   "cell_type": "code",
   "execution_count": 32,
   "metadata": {},
   "outputs": [],
   "source": [
    "x_inp = X_test[0]\n",
    "y_targ = y_test[0]\n",
    "\n",
    "x_inp = x_inp = x_inp.reshape((1, n_steps, n_features))\n",
    "x_inp.shape\n",
    "\n",
    "y_hat = model.predict(x_inp, verbose=0)[0]"
   ]
  },
  {
   "cell_type": "code",
   "execution_count": 33,
   "metadata": {},
   "outputs": [
    {
     "name": "stdout",
     "output_type": "stream",
     "text": [
      "[  917.27105713 -1519.97790527   853.05664062 -1472.29333496\n",
      "     0.             0.             0.             0.\n",
      "     0.             0.             0.             0.\n",
      "     0.             0.             0.             0.\n",
      "     0.             0.             0.             0.\n",
      "     0.             0.             0.             0.\n",
      "     0.             0.             0.             0.\n",
      "     0.             0.             0.             0.\n",
      "     0.             0.             0.             0.\n",
      "     0.             0.             0.             0.        ]\n"
     ]
    }
   ],
   "source": [
    "print(y_targ)"
   ]
  },
  {
   "cell_type": "code",
   "execution_count": 34,
   "metadata": {},
   "outputs": [
    {
     "name": "stdout",
     "output_type": "stream",
     "text": [
      "[ 51.543743 -53.168907  53.91406  -54.770542  37.229446 -38.182804\n",
      "  34.935226 -37.479065  35.57664  -37.938747  33.61367  -34.257706\n",
      "  38.380817 -40.668217  36.106056 -37.173256  30.801292 -34.159603\n",
      "  29.91092  -31.729055  42.612858 -46.81182   29.092216 -32.153233\n",
      "  35.73994  -36.446255  34.99002  -38.578842  30.813421 -32.25333\n",
      "  27.934166 -30.909315  41.476856 -44.446095  29.45362  -32.6945\n",
      "  28.24295  -32.86296   41.625008 -44.787815]\n"
     ]
    }
   ],
   "source": [
    "print(y_hat)"
   ]
  },
  {
   "cell_type": "code",
   "execution_count": 35,
   "metadata": {},
   "outputs": [
    {
     "name": "stdout",
     "output_type": "stream",
     "text": [
      "46/46 [==============================] - 0s 4ms/sample - loss: 111571.0547 - acc: 0.3913\n"
     ]
    }
   ],
   "source": [
    "model_info = model.evaluate(X_test, y_test, batch_size=100)"
   ]
  },
  {
   "cell_type": "markdown",
   "metadata": {},
   "source": [
    "## SECTION LIMIT"
   ]
  },
  {
   "cell_type": "code",
   "execution_count": null,
   "metadata": {},
   "outputs": [],
   "source": [
    "y_hat = model.predict(x_inp, verbose=0)[0]"
   ]
  },
  {
   "cell_type": "code",
   "execution_count": null,
   "metadata": {},
   "outputs": [],
   "source": [
    "y_hat.astype(int)"
   ]
  },
  {
   "cell_type": "code",
   "execution_count": null,
   "metadata": {},
   "outputs": [],
   "source": [
    "8.4155383e+02, -1.4250477e+03"
   ]
  },
  {
   "cell_type": "code",
   "execution_count": null,
   "metadata": {},
   "outputs": [],
   "source": [
    "y_targ, "
   ]
  },
  {
   "cell_type": "code",
   "execution_count": null,
   "metadata": {},
   "outputs": [],
   "source": [
    "(1/len(y_hat))*np.sqrt(((y_hat - y_targ)**2)).sum()"
   ]
  },
  {
   "cell_type": "code",
   "execution_count": null,
   "metadata": {},
   "outputs": [],
   "source": [
    "from scipy import spatial\n",
    "\n",
    "CosineSimilarity = 1 - spatial.distance.cosine(y_hat, y_targ)\n",
    "CosineSimilarity"
   ]
  },
  {
   "cell_type": "code",
   "execution_count": null,
   "metadata": {},
   "outputs": [],
   "source": [
    "import matplotlib.pyplot as plt"
   ]
  },
  {
   "cell_type": "code",
   "execution_count": null,
   "metadata": {},
   "outputs": [],
   "source": [
    "plt.plot(y_targ)"
   ]
  },
  {
   "cell_type": "code",
   "execution_count": null,
   "metadata": {},
   "outputs": [],
   "source": [
    "plt.plot(y_hat)"
   ]
  },
  {
   "cell_type": "code",
   "execution_count": null,
   "metadata": {},
   "outputs": [],
   "source": []
  }
 ],
 "metadata": {
  "kernelspec": {
   "display_name": "Python 3",
   "language": "python",
   "name": "python3"
  },
  "language_info": {
   "codemirror_mode": {
    "name": "ipython",
    "version": 3
   },
   "file_extension": ".py",
   "mimetype": "text/x-python",
   "name": "python",
   "nbconvert_exporter": "python",
   "pygments_lexer": "ipython3",
   "version": "3.7.6"
  }
 },
 "nbformat": 4,
 "nbformat_minor": 4
}
