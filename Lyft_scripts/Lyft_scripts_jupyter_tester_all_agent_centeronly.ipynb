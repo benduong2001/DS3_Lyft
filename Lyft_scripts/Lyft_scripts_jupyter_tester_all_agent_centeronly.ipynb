{
 "cells": [
  {
   "cell_type": "code",
   "execution_count": 1,
   "metadata": {
    "scrolled": true
   },
   "outputs": [
    {
     "name": "stderr",
     "output_type": "stream",
     "text": [
      "Using TensorFlow backend.\n",
      "c:\\users\\benson\\appdata\\local\\programs\\python\\python37\\lib\\site-packages\\tensorflow\\python\\framework\\dtypes.py:516: FutureWarning: Passing (type, 1) or '1type' as a synonym of type is deprecated; in a future version of numpy, it will be understood as (type, (1,)) / '(1,)type'.\n",
      "  _np_qint8 = np.dtype([(\"qint8\", np.int8, 1)])\n",
      "c:\\users\\benson\\appdata\\local\\programs\\python\\python37\\lib\\site-packages\\tensorflow\\python\\framework\\dtypes.py:517: FutureWarning: Passing (type, 1) or '1type' as a synonym of type is deprecated; in a future version of numpy, it will be understood as (type, (1,)) / '(1,)type'.\n",
      "  _np_quint8 = np.dtype([(\"quint8\", np.uint8, 1)])\n",
      "c:\\users\\benson\\appdata\\local\\programs\\python\\python37\\lib\\site-packages\\tensorflow\\python\\framework\\dtypes.py:518: FutureWarning: Passing (type, 1) or '1type' as a synonym of type is deprecated; in a future version of numpy, it will be understood as (type, (1,)) / '(1,)type'.\n",
      "  _np_qint16 = np.dtype([(\"qint16\", np.int16, 1)])\n",
      "c:\\users\\benson\\appdata\\local\\programs\\python\\python37\\lib\\site-packages\\tensorflow\\python\\framework\\dtypes.py:519: FutureWarning: Passing (type, 1) or '1type' as a synonym of type is deprecated; in a future version of numpy, it will be understood as (type, (1,)) / '(1,)type'.\n",
      "  _np_quint16 = np.dtype([(\"quint16\", np.uint16, 1)])\n",
      "c:\\users\\benson\\appdata\\local\\programs\\python\\python37\\lib\\site-packages\\tensorflow\\python\\framework\\dtypes.py:520: FutureWarning: Passing (type, 1) or '1type' as a synonym of type is deprecated; in a future version of numpy, it will be understood as (type, (1,)) / '(1,)type'.\n",
      "  _np_qint32 = np.dtype([(\"qint32\", np.int32, 1)])\n",
      "c:\\users\\benson\\appdata\\local\\programs\\python\\python37\\lib\\site-packages\\tensorflow\\python\\framework\\dtypes.py:525: FutureWarning: Passing (type, 1) or '1type' as a synonym of type is deprecated; in a future version of numpy, it will be understood as (type, (1,)) / '(1,)type'.\n",
      "  np_resource = np.dtype([(\"resource\", np.ubyte, 1)])\n",
      "c:\\users\\benson\\appdata\\local\\programs\\python\\python37\\lib\\site-packages\\tensorboard\\compat\\tensorflow_stub\\dtypes.py:541: FutureWarning: Passing (type, 1) or '1type' as a synonym of type is deprecated; in a future version of numpy, it will be understood as (type, (1,)) / '(1,)type'.\n",
      "  _np_qint8 = np.dtype([(\"qint8\", np.int8, 1)])\n",
      "c:\\users\\benson\\appdata\\local\\programs\\python\\python37\\lib\\site-packages\\tensorboard\\compat\\tensorflow_stub\\dtypes.py:542: FutureWarning: Passing (type, 1) or '1type' as a synonym of type is deprecated; in a future version of numpy, it will be understood as (type, (1,)) / '(1,)type'.\n",
      "  _np_quint8 = np.dtype([(\"quint8\", np.uint8, 1)])\n",
      "c:\\users\\benson\\appdata\\local\\programs\\python\\python37\\lib\\site-packages\\tensorboard\\compat\\tensorflow_stub\\dtypes.py:543: FutureWarning: Passing (type, 1) or '1type' as a synonym of type is deprecated; in a future version of numpy, it will be understood as (type, (1,)) / '(1,)type'.\n",
      "  _np_qint16 = np.dtype([(\"qint16\", np.int16, 1)])\n",
      "c:\\users\\benson\\appdata\\local\\programs\\python\\python37\\lib\\site-packages\\tensorboard\\compat\\tensorflow_stub\\dtypes.py:544: FutureWarning: Passing (type, 1) or '1type' as a synonym of type is deprecated; in a future version of numpy, it will be understood as (type, (1,)) / '(1,)type'.\n",
      "  _np_quint16 = np.dtype([(\"quint16\", np.uint16, 1)])\n",
      "c:\\users\\benson\\appdata\\local\\programs\\python\\python37\\lib\\site-packages\\tensorboard\\compat\\tensorflow_stub\\dtypes.py:545: FutureWarning: Passing (type, 1) or '1type' as a synonym of type is deprecated; in a future version of numpy, it will be understood as (type, (1,)) / '(1,)type'.\n",
      "  _np_qint32 = np.dtype([(\"qint32\", np.int32, 1)])\n",
      "c:\\users\\benson\\appdata\\local\\programs\\python\\python37\\lib\\site-packages\\tensorboard\\compat\\tensorflow_stub\\dtypes.py:550: FutureWarning: Passing (type, 1) or '1type' as a synonym of type is deprecated; in a future version of numpy, it will be understood as (type, (1,)) / '(1,)type'.\n",
      "  np_resource = np.dtype([(\"resource\", np.ubyte, 1)])\n"
     ]
    }
   ],
   "source": [
    "import keras\n",
    "import tensorflow as tf\n",
    "from tensorflow.keras.layers import Dense\n",
    "from tensorflow.keras import Sequential\n",
    "from tensorflow.keras.layers import LSTM\n",
    "from tensorflow.keras.layers import SimpleRNN\n",
    "from tensorflow.keras.layers import Dropout"
   ]
  },
  {
   "cell_type": "code",
   "execution_count": 2,
   "metadata": {},
   "outputs": [],
   "source": [
    "import bz2\n",
    "import pickle\n",
    "import numpy as np\n",
    "import matplotlib.pyplot as plt"
   ]
  },
  {
   "cell_type": "code",
   "execution_count": 3,
   "metadata": {},
   "outputs": [],
   "source": [
    "data_holder_path = \"\\\\lyft_pickled_data_all_clusterAnchor_juncF_centTrotF_coordT_yawF\\\\\""
   ]
  },
  {
   "cell_type": "code",
   "execution_count": 4,
   "metadata": {},
   "outputs": [],
   "source": [
    "folder_path = \"C:\\\\Users\\\\Benson\\\\Desktop\\\\Lyft_scripts\\\\\"\n",
    "template_file_name = \"lyft_partitions_{0}_10.pkl\"\n",
    "full_data_holder_path_template = folder_path + data_holder_path + template_file_name"
   ]
  },
  {
   "cell_type": "code",
   "execution_count": 5,
   "metadata": {},
   "outputs": [],
   "source": [
    "full_partitions_dataset = []"
   ]
  },
  {
   "cell_type": "code",
   "execution_count": 6,
   "metadata": {},
   "outputs": [],
   "source": [
    "def unpack_file(i, full_data_holder_path_template):\n",
    "    # make file name\n",
    "    full_data_holder_path = full_data_holder_path_template.format(str(i))\n",
    "    print(full_data_holder_path)\n",
    "    \n",
    "    # read file\n",
    "    f = open(full_data_holder_path, 'rb')\n",
    "    data = pickle.load(f)\n",
    "    # recall that data is a list of lists of partitions,\n",
    "    print(\"finished loading {0}\".format(str(i)))\n",
    "    \n",
    "    # data is too big to just append directly, we need to iter\n",
    "    \n",
    "    temp_partitions_dataset = []\n",
    "    for j in range(len(data)):\n",
    "        print(\"\\t unpacking j = {0}\".format(j))\n",
    "        partition_sublist = data[j]\n",
    "        print(\"\\t partition sublist is len {0}\".format(len(partition_sublist)))\n",
    "        temp_partitions_dataset = temp_partitions_dataset + partition_sublist\n",
    "    \n",
    "    return temp_partitions_dataset\n",
    "    \n"
   ]
  },
  {
   "cell_type": "code",
   "execution_count": 7,
   "metadata": {},
   "outputs": [
    {
     "name": "stdout",
     "output_type": "stream",
     "text": [
      "C:\\Users\\Benson\\Desktop\\Lyft_scripts\\\\lyft_pickled_data_all_clusterAnchor_juncF_centTrotF_coordT_yawF\\lyft_partitions_1_10.pkl\n",
      "finished loading 1\n",
      "\t unpacking j = 0\n",
      "\t partition sublist is len 750\n",
      "\t unpacking j = 1\n",
      "\t partition sublist is len 1001\n",
      "\t unpacking j = 2\n",
      "\t partition sublist is len 1127\n",
      "\t unpacking j = 3\n",
      "\t partition sublist is len 1535\n",
      "\t unpacking j = 4\n",
      "\t partition sublist is len 1924\n",
      "\t unpacking j = 5\n",
      "\t partition sublist is len 2422\n",
      "\t unpacking j = 6\n",
      "\t partition sublist is len 3084\n",
      "\t unpacking j = 7\n",
      "\t partition sublist is len 2067\n",
      "\t unpacking j = 8\n",
      "\t partition sublist is len 1836\n",
      "\t unpacking j = 9\n",
      "\t partition sublist is len 4929\n",
      "C:\\Users\\Benson\\Desktop\\Lyft_scripts\\\\lyft_pickled_data_all_clusterAnchor_juncF_centTrotF_coordT_yawF\\lyft_partitions_2_10.pkl\n",
      "finished loading 2\n",
      "\t unpacking j = 0\n",
      "\t partition sublist is len 1857\n",
      "\t unpacking j = 1\n",
      "\t partition sublist is len 2561\n",
      "\t unpacking j = 2\n",
      "\t partition sublist is len 2917\n",
      "\t unpacking j = 3\n",
      "\t partition sublist is len 1719\n",
      "\t unpacking j = 4\n",
      "\t partition sublist is len 2236\n",
      "\t unpacking j = 5\n",
      "\t partition sublist is len 2393\n",
      "\t unpacking j = 6\n",
      "\t partition sublist is len 2546\n",
      "\t unpacking j = 7\n",
      "\t partition sublist is len 988\n",
      "\t unpacking j = 8\n",
      "\t partition sublist is len 1341\n",
      "\t unpacking j = 9\n",
      "\t partition sublist is len 3814\n",
      "C:\\Users\\Benson\\Desktop\\Lyft_scripts\\\\lyft_pickled_data_all_clusterAnchor_juncF_centTrotF_coordT_yawF\\lyft_partitions_3_10.pkl\n",
      "finished loading 3\n",
      "\t unpacking j = 0\n",
      "\t partition sublist is len 659\n",
      "\t unpacking j = 1\n",
      "\t partition sublist is len 1086\n",
      "\t unpacking j = 2\n",
      "\t partition sublist is len 2477\n",
      "\t unpacking j = 3\n",
      "\t partition sublist is len 537\n",
      "\t unpacking j = 4\n",
      "\t partition sublist is len 1937\n",
      "\t unpacking j = 5\n",
      "\t partition sublist is len 6929\n",
      "\t unpacking j = 6\n",
      "\t partition sublist is len 797\n",
      "\t unpacking j = 7\n",
      "\t partition sublist is len 1531\n",
      "\t unpacking j = 8\n",
      "\t partition sublist is len 2799\n",
      "\t unpacking j = 9\n",
      "\t partition sublist is len 2160\n",
      "C:\\Users\\Benson\\Desktop\\Lyft_scripts\\\\lyft_pickled_data_all_clusterAnchor_juncF_centTrotF_coordT_yawF\\lyft_partitions_4_10.pkl\n",
      "finished loading 4\n",
      "\t unpacking j = 0\n",
      "\t partition sublist is len 641\n",
      "\t unpacking j = 1\n",
      "\t partition sublist is len 6816\n",
      "\t unpacking j = 2\n",
      "\t partition sublist is len 2422\n",
      "\t unpacking j = 3\n",
      "\t partition sublist is len 1074\n",
      "\t unpacking j = 4\n",
      "\t partition sublist is len 2799\n",
      "\t unpacking j = 5\n",
      "\t partition sublist is len 1455\n",
      "\t unpacking j = 6\n",
      "\t partition sublist is len 2503\n",
      "\t unpacking j = 7\n",
      "\t partition sublist is len 2665\n",
      "\t unpacking j = 8\n",
      "\t partition sublist is len 3814\n",
      "\t unpacking j = 9\n",
      "\t partition sublist is len 2597\n",
      "C:\\Users\\Benson\\Desktop\\Lyft_scripts\\\\lyft_pickled_data_all_clusterAnchor_juncF_centTrotF_coordT_yawF\\lyft_partitions_5_10.pkl\n",
      "finished loading 5\n",
      "\t unpacking j = 0\n",
      "\t partition sublist is len 1127\n",
      "\t unpacking j = 1\n",
      "\t partition sublist is len 796\n",
      "\t unpacking j = 2\n",
      "\t partition sublist is len 1907\n",
      "\t unpacking j = 3\n",
      "\t partition sublist is len 2176\n",
      "\t unpacking j = 4\n",
      "\t partition sublist is len 829\n",
      "\t unpacking j = 5\n",
      "\t partition sublist is len 1484\n",
      "\t unpacking j = 6\n",
      "\t partition sublist is len 4929\n",
      "\t unpacking j = 7\n",
      "\t partition sublist is len 2160\n",
      "\t unpacking j = 8\n",
      "\t partition sublist is len 817\n",
      "\t unpacking j = 9\n",
      "\t partition sublist is len 6929\n",
      "C:\\Users\\Benson\\Desktop\\Lyft_scripts\\\\lyft_pickled_data_all_clusterAnchor_juncF_centTrotF_coordT_yawF\\lyft_partitions_6_10.pkl\n",
      "finished loading 6\n",
      "\t unpacking j = 0\n",
      "\t partition sublist is len 2760\n",
      "\t unpacking j = 1\n",
      "\t partition sublist is len 1296\n",
      "\t unpacking j = 2\n",
      "\t partition sublist is len 2067\n",
      "\t unpacking j = 3\n",
      "\t partition sublist is len 1535\n",
      "\t unpacking j = 4\n",
      "\t partition sublist is len 6719\n",
      "\t unpacking j = 5\n",
      "\t partition sublist is len 2431\n",
      "\t unpacking j = 6\n",
      "\t partition sublist is len 2985\n",
      "\t unpacking j = 7\n",
      "\t partition sublist is len 2457\n",
      "\t unpacking j = 8\n",
      "\t partition sublist is len 2890\n",
      "\t unpacking j = 9\n",
      "\t partition sublist is len 3558\n",
      "C:\\Users\\Benson\\Desktop\\Lyft_scripts\\\\lyft_pickled_data_all_clusterAnchor_juncF_centTrotF_coordT_yawF\\lyft_partitions_7_10.pkl\n",
      "finished loading 7\n",
      "\t unpacking j = 0\n",
      "\t partition sublist is len 729\n",
      "\t unpacking j = 1\n",
      "\t partition sublist is len 1937\n",
      "\t unpacking j = 2\n",
      "\t partition sublist is len 2849\n",
      "\t unpacking j = 3\n",
      "\t partition sublist is len 2347\n",
      "\t unpacking j = 4\n",
      "\t partition sublist is len 2244\n",
      "\t unpacking j = 5\n",
      "\t partition sublist is len 4749\n",
      "\t unpacking j = 6\n",
      "\t partition sublist is len 1571\n",
      "\t unpacking j = 7\n",
      "\t partition sublist is len 762\n",
      "\t unpacking j = 8\n",
      "\t partition sublist is len 1248\n",
      "\t unpacking j = 9\n",
      "\t partition sublist is len 2052\n",
      "C:\\Users\\Benson\\Desktop\\Lyft_scripts\\\\lyft_pickled_data_all_clusterAnchor_juncF_centTrotF_coordT_yawF\\lyft_partitions_8_10.pkl\n",
      "finished loading 8\n",
      "\t unpacking j = 0\n",
      "\t partition sublist is len 2546\n",
      "\t unpacking j = 1\n",
      "\t partition sublist is len 998\n",
      "\t unpacking j = 2\n",
      "\t partition sublist is len 1719\n",
      "\t unpacking j = 3\n",
      "\t partition sublist is len 537\n",
      "\t unpacking j = 4\n",
      "\t partition sublist is len 495\n",
      "\t unpacking j = 5\n",
      "\t partition sublist is len 1366\n",
      "\t unpacking j = 6\n",
      "\t partition sublist is len 1784\n",
      "\t unpacking j = 7\n",
      "\t partition sublist is len 2477\n",
      "\t unpacking j = 8\n",
      "\t partition sublist is len 1187\n",
      "\t unpacking j = 9\n",
      "\t partition sublist is len 1251\n",
      "C:\\Users\\Benson\\Desktop\\Lyft_scripts\\\\lyft_pickled_data_all_clusterAnchor_juncF_centTrotF_coordT_yawF\\lyft_partitions_9_10.pkl\n",
      "finished loading 9\n",
      "\t unpacking j = 0\n",
      "\t partition sublist is len 836\n",
      "\t unpacking j = 1\n",
      "\t partition sublist is len 2247\n",
      "\t unpacking j = 2\n",
      "\t partition sublist is len 750\n",
      "\t unpacking j = 3\n",
      "\t partition sublist is len 2588\n",
      "\t unpacking j = 4\n",
      "\t partition sublist is len 988\n",
      "\t unpacking j = 5\n",
      "\t partition sublist is len 3289\n",
      "\t unpacking j = 6\n",
      "\t partition sublist is len 1166\n",
      "\t unpacking j = 7\n",
      "\t partition sublist is len 2899\n",
      "\t unpacking j = 8\n",
      "\t partition sublist is len 1718\n",
      "\t unpacking j = 9\n",
      "\t partition sublist is len 659\n",
      "C:\\Users\\Benson\\Desktop\\Lyft_scripts\\\\lyft_pickled_data_all_clusterAnchor_juncF_centTrotF_coordT_yawF\\lyft_partitions_10_10.pkl\n",
      "finished loading 10\n",
      "\t unpacking j = 0\n",
      "\t partition sublist is len 268\n",
      "\t unpacking j = 1\n",
      "\t partition sublist is len 2747\n",
      "\t unpacking j = 2\n",
      "\t partition sublist is len 3870\n",
      "\t unpacking j = 3\n",
      "\t partition sublist is len 1680\n",
      "\t unpacking j = 4\n",
      "\t partition sublist is len 3084\n",
      "\t unpacking j = 5\n",
      "\t partition sublist is len 3910\n",
      "\t unpacking j = 6\n",
      "\t partition sublist is len 3316\n",
      "\t unpacking j = 7\n",
      "\t partition sublist is len 2158\n",
      "\t unpacking j = 8\n",
      "\t partition sublist is len 3315\n",
      "\t unpacking j = 9\n",
      "\t partition sublist is len 861\n"
     ]
    }
   ],
   "source": [
    "full_partitions_dataset = []\n",
    "for i in range(1, 10 + 1):\n",
    "    temp_partitions_dataset = unpack_file(i, full_data_holder_path_template)\n",
    "    full_partitions_dataset = full_partitions_dataset + temp_partitions_dataset"
   ]
  },
  {
   "cell_type": "markdown",
   "metadata": {},
   "source": [
    "### PARTITIONS CREATED; NOW ONTO TIMES SERIES FORECASTING"
   ]
  },
  {
   "cell_type": "code",
   "execution_count": 8,
   "metadata": {},
   "outputs": [],
   "source": [
    "TRAIN_PROPORTION = 0.8\n",
    "TRAIN_PROPORTION_INDEXER = int(len(full_partitions_dataset) * 0.8)\n",
    "\n",
    "np.random.shuffle(full_partitions_dataset)\n",
    "\n",
    "X_train = []\n",
    "y_train = []\n",
    "X_test = []\n",
    "y_test = []\n",
    "for i in range(len(full_partitions_dataset)): # [:TRAIN_PROPORTION_INDEXER]:\n",
    "    partition = full_partitions_dataset[i]\n",
    "    if i <= TRAIN_PROPORTION_INDEXER:\n",
    "        X_train.append(partition.input_array)\n",
    "        y_train.append(partition.output_row)\n",
    "    else:\n",
    "        X_test.append(partition.input_array)\n",
    "        y_test.append(partition.output_row)        \n",
    "X_train = np.array(X_train)\n",
    "y_train = np.array(y_train)\n",
    "X_test = np.array(X_test)\n",
    "y_test = np.array(y_test)"
   ]
  },
  {
   "cell_type": "code",
   "execution_count": 9,
   "metadata": {},
   "outputs": [
    {
     "data": {
      "text/plain": [
       "(175836, 2, 60)"
      ]
     },
     "execution_count": 9,
     "metadata": {},
     "output_type": "execute_result"
    }
   ],
   "source": [
    "X_train.shape"
   ]
  },
  {
   "cell_type": "code",
   "execution_count": 10,
   "metadata": {},
   "outputs": [],
   "source": [
    "assert not np.isnan(X_train).any()\n",
    "assert not np.isnan(y_train).any()\n",
    "assert not np.isnan(X_test).any()\n",
    "assert not np.isnan(y_test).any()\n",
    "\n",
    "assert not np.isinf(X_train).any()\n",
    "assert not np.isinf(y_train).any()\n",
    "assert not np.isinf(X_test).any()\n",
    "assert not np.isinf(y_test).any()"
   ]
  },
  {
   "cell_type": "code",
   "execution_count": 15,
   "metadata": {},
   "outputs": [],
   "source": [
    "n_steps = 2\n",
    "n_features = (X_train.shape[-1])\n",
    "\n",
    "CHOSEN_ACTIVATION = \"tanh\"\n",
    "retseq = True\n",
    "\n",
    "LOSS_FUNCTION = \"\" # loss=tf.keras.losses.cosine_similarity\n",
    "\n",
    "model = Sequential()\n",
    "\n",
    "model.add(LSTM(100, \n",
    "               activation=CHOSEN_ACTIVATION, \n",
    "               return_sequences=True, \n",
    "               input_shape=(n_steps, n_features)))\n",
    "\n",
    "model.add(LSTM(50, activation=CHOSEN_ACTIVATION))\n",
    "\n",
    "model.add(Dense(n_features))\n",
    "\n",
    "model.compile(optimizer='adam', loss=\"mse\")\n"
   ]
  },
  {
   "cell_type": "code",
   "execution_count": 24,
   "metadata": {},
   "outputs": [
    {
     "ename": "NameError",
     "evalue": "name 'N_STEPS' is not defined",
     "output_type": "error",
     "traceback": [
      "\u001b[1;31m---------------------------------------------------------------------------\u001b[0m",
      "\u001b[1;31mNameError\u001b[0m                                 Traceback (most recent call last)",
      "\u001b[1;32m<ipython-input-24-d90c6e8c609f>\u001b[0m in \u001b[0;36m<module>\u001b[1;34m\u001b[0m\n\u001b[0;32m      5\u001b[0m model.add(LSTM(100, return_sequences=True,\n\u001b[0;32m      6\u001b[0m                \u001b[0mactivation\u001b[0m\u001b[1;33m=\u001b[0m\u001b[0mCHOSEN_ACTIVATION\u001b[0m\u001b[1;33m,\u001b[0m\u001b[1;33m\u001b[0m\u001b[1;33m\u001b[0m\u001b[0m\n\u001b[1;32m----> 7\u001b[1;33m                input_shape=(N_STEPS, N_FEATURES)))\n\u001b[0m\u001b[0;32m      8\u001b[0m \u001b[1;33m\u001b[0m\u001b[0m\n\u001b[0;32m      9\u001b[0m \u001b[0mmodel\u001b[0m\u001b[1;33m.\u001b[0m\u001b[0madd\u001b[0m\u001b[1;33m(\u001b[0m\u001b[0mLSTM\u001b[0m\u001b[1;33m(\u001b[0m\u001b[1;36m50\u001b[0m\u001b[1;33m,\u001b[0m \u001b[0mactivation\u001b[0m\u001b[1;33m=\u001b[0m\u001b[0mCHOSEN_ACTIVATION\u001b[0m\u001b[1;33m)\u001b[0m\u001b[1;33m)\u001b[0m\u001b[1;33m\u001b[0m\u001b[1;33m\u001b[0m\u001b[0m\n",
      "\u001b[1;31mNameError\u001b[0m: name 'N_STEPS' is not defined"
     ]
    }
   ],
   "source": [
    "model = Sequential()\n",
    "\n",
    "model.add(LSTM(100, return_sequences=True,\n",
    "               activation=\"tanh\",  \n",
    "               input_shape=(NUM_STEPS, NUM_FEATURES)))\n",
    "\n",
    "model.add(LSTM(50, activation=\"tanh\"))\n",
    "\n",
    "model.add(Dense(NUM_FEATURES))\n",
    "\n",
    "model.compile(optimizer=\"adam\", loss=\"mse\")\n",
    "\n",
    "\n",
    "history = model.fit(X_train, y_train, epochs=10, verbose=1)"
   ]
  },
  {
   "cell_type": "code",
   "execution_count": 16,
   "metadata": {
    "scrolled": false
   },
   "outputs": [
    {
     "name": "stdout",
     "output_type": "stream",
     "text": [
      "Epoch 1/10\n",
      "175836/175836 [==============================] - 34s 191us/sample - loss: 6.5428\n",
      "Epoch 2/10\n",
      "175836/175836 [==============================] - 30s 172us/sample - loss: 2.9754\n",
      "Epoch 3/10\n",
      "175836/175836 [==============================] - 32s 182us/sample - loss: 2.3700\n",
      "Epoch 4/10\n",
      "175836/175836 [==============================] - 33s 189us/sample - loss: 2.1684\n",
      "Epoch 5/10\n",
      "175836/175836 [==============================] - 33s 189us/sample - loss: 2.0738\n",
      "Epoch 6/10\n",
      "175836/175836 [==============================] - 33s 186us/sample - loss: 2.0209\n",
      "Epoch 7/10\n",
      "175836/175836 [==============================] - 35s 202us/sample - loss: 1.9861\n",
      "Epoch 8/10\n",
      "175836/175836 [==============================] - 37s 213us/sample - loss: 1.9617\n",
      "Epoch 9/10\n",
      "175836/175836 [==============================] - 36s 204us/sample - loss: 1.9446\n",
      "Epoch 10/10\n",
      "175836/175836 [==============================] - 37s 208us/sample - loss: 1.9299\n"
     ]
    }
   ],
   "source": [
    "history = model.fit(X_train, y_train, epochs=10, verbose=1)"
   ]
  },
  {
   "cell_type": "code",
   "execution_count": 17,
   "metadata": {},
   "outputs": [],
   "source": [
    "# relu_losses = history.history[\"loss\"]\n",
    "tanh_losses = history.history[\"loss\"]"
   ]
  },
  {
   "cell_type": "markdown",
   "metadata": {},
   "source": [
    "relu_losses = [2.884565407866063,\n",
    " 1.9659721862711441,\n",
    " 1.9283501418761357,\n",
    " 1.9102720361532697,\n",
    " 1.8972495027336795,\n",
    " 1.889783117746688,\n",
    " 1.8820887336051046,\n",
    " 1.875282775160098,\n",
    " 1.866928933806235,\n",
    " 1.8620092300188633]"
   ]
  },
  {
   "cell_type": "markdown",
   "metadata": {},
   "source": [
    "tanh_losses = [6.542827249910235,\n",
    " 2.975351895666412,\n",
    " 2.3699637337928934,\n",
    " 2.1683579267336386,\n",
    " 2.0738060352363448,\n",
    " 2.020897895841452,\n",
    " 1.9860897028277251,\n",
    " 1.961686025122179,\n",
    " 1.9446124235246616,\n",
    " 1.9299041186145065]"
   ]
  },
  {
   "cell_type": "code",
   "execution_count": 23,
   "metadata": {
    "scrolled": true
   },
   "outputs": [
    {
     "data": {
      "text/plain": [
       "Text(0.5, 0, 'Epochs')"
      ]
     },
     "execution_count": 23,
     "metadata": {},
     "output_type": "execute_result"
    },
    {
     "data": {
      "image/png": "[encoded data removed]",
      "text/plain": [
       "<Figure size 432x288 with 1 Axes>"
      ]
     },
     "metadata": {
      "needs_background": "light"
     },
     "output_type": "display_data"
    }
   ],
   "source": [
    "#plt.plot(history.history[\"loss\"])\n",
    "plt.title(\"Loss over Epochs with Model B\")\n",
    "plt.plot(tanh_losses, c=\"blue\")\n",
    "plt.plot(relu_losses, c=\"red\")\n",
    "plt.ylabel(\"Loss\")\n",
    "plt.xlabel(\"Epochs\")"
   ]
  },
  {
   "cell_type": "code",
   "execution_count": 22,
   "metadata": {},
   "outputs": [
    {
     "name": "stdout",
     "output_type": "stream",
     "text": [
      "43958/43958 [==============================] - 1s 15us/sample - loss: 1.8995\n"
     ]
    },
    {
     "data": {
      "text/plain": [
       "1.8994943793398478"
      ]
     },
     "execution_count": 22,
     "metadata": {},
     "output_type": "execute_result"
    }
   ],
   "source": [
    "results = model.evaluate(X_test, y_test, batch_size=256)\n",
    "results"
   ]
  },
  {
   "cell_type": "code",
   "execution_count": 23,
   "metadata": {},
   "outputs": [],
   "source": [
    "model_predictions = model.predict(X_test)"
   ]
  },
  {
   "cell_type": "code",
   "execution_count": 33,
   "metadata": {
    "scrolled": true
   },
   "outputs": [
    {
     "name": "stdout",
     "output_type": "stream",
     "text": [
      "15678\n",
      "0.743870908042686\n"
     ]
    },
    {
     "data": {
      "text/plain": [
       "[<matplotlib.lines.Line2D at 0x1d52704d188>]"
      ]
     },
     "execution_count": 33,
     "metadata": {},
     "output_type": "execute_result"
    },
    {
     "data": {
      "image/png": "[encoded data removed]",
      "text/plain": [
       "<Figure size 432x288 with 1 Axes>"
      ]
     },
     "metadata": {
      "needs_background": "light"
     },
     "output_type": "display_data"
    }
   ],
   "source": [
    "from scipy import spatial\n",
    "\n",
    "i = np.random.choice(list(range(len(y_test))))\n",
    "print(i)\n",
    "\n",
    "x1pred = model_predictions[i]\n",
    "y1targ = y_test[i]\n",
    "cosine_similarity = 1 - spatial.distance.cosine(x1pred, y1targ)\n",
    "print(cosine_similarity)\n",
    "\n",
    "plt.plot(x1pred, c=\"red\")\n",
    "\n",
    "plt.plot(y1targ)"
   ]
  },
  {
   "cell_type": "code",
   "execution_count": 34,
   "metadata": {},
   "outputs": [
    {
     "data": {
      "text/plain": [
       "0.9473089693898123"
      ]
     },
     "execution_count": 34,
     "metadata": {},
     "output_type": "execute_result"
    }
   ],
   "source": [
    "\n",
    "len_test = len(y_test)\n",
    "\n",
    "rand_indices = np.arange(len_test)\n",
    "\n",
    "np.random.shuffle(rand_indices)\n",
    "\n",
    "def get_avg_sample_cosinesim(sample_indices):\n",
    "    avg_cosine_similarity = []\n",
    "    for ri in sample_indices:\n",
    "        x1pred = model_predictions[ri]\n",
    "        y1targ = y_test[ri]\n",
    "        cosine_similarity = 1 - spatial.distance.cosine(x1pred, y1targ)\n",
    "        avg_cosine_similarity.append(cosine_similarity)\n",
    "    return np.mean(avg_cosine_similarity)    \n",
    "\n",
    "avg_trial_cosinesims = []\n",
    "for i in range(1000):\n",
    "    # if (i+1)% 100 == 0:\n",
    "    #    print(i, 10)\n",
    "    rand_sample_indices = np.random.choice(rand_indices, 100, replace=True)\n",
    "    avg_sample_cosinesim = get_avg_sample_cosinesim(rand_sample_indices)\n",
    "    avg_trial_cosinesims.append(avg_sample_cosinesim)\n",
    "\n",
    "test_cosine_similarity_accuracy = np.mean(avg_trial_cosinesims)\n",
    "test_cosine_similarity_accuracy"
   ]
  },
  {
   "cell_type": "code",
   "execution_count": 35,
   "metadata": {},
   "outputs": [],
   "source": [
    "model.save(\"Lyft_modelB_relu_alldata.h5\")"
   ]
  },
  {
   "cell_type": "code",
   "execution_count": null,
   "metadata": {},
   "outputs": [],
   "source": []
  }
 ],
 "metadata": {
  "kernelspec": {
   "display_name": "Python 3",
   "language": "python",
   "name": "python3"
  },
  "language_info": {
   "codemirror_mode": {
    "name": "ipython",
    "version": 3
   },
   "file_extension": ".py",
   "mimetype": "text/x-python",
   "name": "python",
   "nbconvert_exporter": "python",
   "pygments_lexer": "ipython3",
   "version": "3.7.4"
  }
 },
 "nbformat": 4,
 "nbformat_minor": 2
}
