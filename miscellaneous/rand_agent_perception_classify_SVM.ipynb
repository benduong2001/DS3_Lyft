{
 "cells": [
  {
   "cell_type": "markdown",
   "metadata": {},
   "source": [
    "In the agents table, the agents' categories are predicted under the general columns \"PERCEPTION_LABEL_\". \n",
    "\n",
    "Only 4 of these columns are actually used, and they are 'PERCEPTION_LABEL_CAR', 'PERCEPTION_LABEL_PEDESTRIAN', 'PERCEPTION_LABEL_CYCLIST', 'PERCEPTION_LABEL_UNKNOWN'. \n",
    "\n",
    "We will try and see if we can apply SVM to the dimensions of the agents of type car, pedestrian, and cyclist. The columns extent_x (width), extent_y (length), and extent_z (height) are the agents' dimensions. \n",
    "\n",
    "If we can group the hyperplanes for these categories apart, we can possibly use it to predict the agents with PERCEPTION_LABEL_UNKNOWN."
   ]
  },
  {
   "cell_type": "code",
   "execution_count": null,
   "metadata": {},
   "outputs": [],
   "source": [
    "import pandas as pd\n",
    "import numpy as np\n",
    "import matplotlib.pyplot as plt"
   ]
  },
  {
   "cell_type": "code",
   "execution_count": null,
   "metadata": {},
   "outputs": [],
   "source": [
    "folderpath = \"*\"\n",
    "file = folderpath + \"\\\\lyftlong\\\\rand_agents_table0.csv\"\n",
    "at = pd.read_csv(file)\n",
    "file = folderpath + \"\\\\lyftlong\\\\rand_frames_table1.csv\"\n",
    "ft = pd.read_csv(file)\n",
    "file = folderpath +  \"\\\\lyftlong\\\\rand_scenes_table1.csv\"\n",
    "st = pd.read_csv(file)"
   ]
  },
  {
   "cell_type": "code",
   "execution_count": null,
   "metadata": {},
   "outputs": [],
   "source": [
    "KNOWN_LABELS = ['PERCEPTION_LABEL_CAR', 'PERCEPTION_LABEL_PEDESTRIAN', 'PERCEPTION_LABEL_CYCLIST', 'PERCEPTION_LABEL_UNKNOWN']"
   ]
  },
  {
   "cell_type": "code",
   "execution_count": null,
   "metadata": {},
   "outputs": [],
   "source": [
    "atkl = at[KNOWN_LABELS]"
   ]
  },
  {
   "cell_type": "code",
   "execution_count": null,
   "metadata": {},
   "outputs": [],
   "source": [
    "atkl"
   ]
  },
  {
   "cell_type": "markdown",
   "metadata": {},
   "source": [
    "Some of the one-hot-encoded rows aren't basic 1's or 0's; some have decimals like [0.90, 0.10, 0, ... etc], so we will try to round everything to be 1 or 0 in this for loop below,"
   ]
  },
  {
   "cell_type": "code",
   "execution_count": null,
   "metadata": {},
   "outputs": [],
   "source": [
    "atklarr = atkl.to_numpy()\n",
    "for x in range(len(atkl)):\n",
    "    row = atklarr[x]\n",
    "    new_row = np.zeros((4,))\n",
    "    new_row[np.argmax(row)] = 1\n",
    "    atklarr[x] = new_row"
   ]
  },
  {
   "cell_type": "code",
   "execution_count": null,
   "metadata": {},
   "outputs": [],
   "source": [
    "c, p, b, u = atklarr.T, # car, pedestrian, biker (cyclist), unknown. vehicl"
   ]
  },
  {
   "cell_type": "code",
   "execution_count": null,
   "metadata": {},
   "outputs": [],
   "source": [
    "not_unknown = np.ravel(np.argwhere(atklarr.T[3] != 1).tolist()).tolist()"
   ]
  },
  {
   "cell_type": "code",
   "execution_count": null,
   "metadata": {},
   "outputs": [],
   "source": [
    "at = at.iloc[not_unknown]"
   ]
  },
  {
   "cell_type": "code",
   "execution_count": null,
   "metadata": {},
   "outputs": [],
   "source": [
    "kind = c + 2*p + 3*b\n",
    "kind = kind[kind != 0] # + 4*u"
   ]
  },
  {
   "cell_type": "code",
   "execution_count": null,
   "metadata": {},
   "outputs": [],
   "source": [
    "np.unique(kind)"
   ]
  },
  {
   "cell_type": "markdown",
   "metadata": {},
   "source": [
    "Creating new table for the 3d scatterplot, with only the extent_x, extent_y, extent_z columns, and with only the agents who's perception label isn't unknown."
   ]
  },
  {
   "cell_type": "code",
   "execution_count": null,
   "metadata": {
    "scrolled": true
   },
   "outputs": [],
   "source": [
    "atclu = at[['extent_x', 'extent_y', 'extent_z']]\n",
    "\n",
    "atclu['kind'] = kind\n",
    "# plt.scatter(atclu['extent_x'].values, atclu['extent_y'].values, c=kind[:300], s=1)\n",
    "\n",
    "\n",
    "# import seaborn as sns\n",
    "\n",
    "# sns.scatterplot('extent_x', 'extent_y', data=atclu.iloc[:1000], hue='kind')"
   ]
  },
  {
   "cell_type": "code",
   "execution_count": null,
   "metadata": {},
   "outputs": [],
   "source": [
    "from mpl_toolkits.mplot3d import Axes3D\n",
    "fig = plt.figure()\n",
    "ax = fig.add_subplot(111, projection='3d')\n"
   ]
  },
  {
   "cell_type": "code",
   "execution_count": null,
   "metadata": {},
   "outputs": [],
   "source": [
    "from mpl_toolkits.mplot3d import Axes3D  # noqa: F401 unused import\n",
    "\n",
    "import matplotlib.pyplot as plt\n",
    "import numpy as np\n",
    "%matplotlib inline\n",
    "%matplotlib notebook\n",
    "\n"
   ]
  },
  {
   "cell_type": "code",
   "execution_count": null,
   "metadata": {},
   "outputs": [],
   "source": [
    "perception = (atkl.columns.to_list())\n",
    "counts = (atkl.to_numpy().sum(axis=0))\n",
    "list(zip(perception, counts))\n",
    "# 603493.0 cars, 44974.0 pedestrians, 9946.0 cyclists, 1291830.0 unknown"
   ]
  },
  {
   "cell_type": "markdown",
   "metadata": {},
   "source": [
    "We are now only plotting out the points of the agents with perception label cars, pedestrians, and cyclists (no unknown yet), in a 3d scatterplot where their points are their extent_x, extent_y and extent_z (dimensions in sizes)"
   ]
  },
  {
   "cell_type": "code",
   "execution_count": null,
   "metadata": {},
   "outputs": [],
   "source": [
    "from mpl_toolkits.mplot3d import Axes3D  # noqa: F401 unused import\n",
    "\n",
    "import matplotlib.pyplot as plt\n",
    "import numpy as np\n",
    "%matplotlib notebook\n",
    "\n",
    "h = None\n",
    "j = None # h + 10_000\n",
    "c1 = atclu['extent_x'][h:j]\n",
    "c2 = atclu['extent_y'][h:j]\n",
    "c3 = atclu['extent_z'][h:j]\n",
    "clr = atclu['kind'][h:j]\n",
    "clrs = [['r', 'g', 'b', 'y'][int(x-1)] for x in clr]\n",
    "\n",
    "from mpl_toolkits.mplot3d import Axes3D\n",
    "fig = plt.figure(figsize=(12,12))\n",
    "\n",
    "ax = fig.add_subplot(111, projection='3d')\n",
    "\n",
    "ax.scatter(c1, c2, c3, marker='o', c=clrs, s=0.9)\n",
    "ax.set_xlabel('X Label')\n",
    "ax.set_ylabel('Y Label')\n",
    "ax.set_zlabel('Z Label')\n",
    "\n",
    "ax"
   ]
  },
  {
   "cell_type": "code",
   "execution_count": null,
   "metadata": {},
   "outputs": [],
   "source": []
  }
 ],
 "metadata": {
  "kernelspec": {
   "display_name": "Python 3",
   "language": "python",
   "name": "python3"
  },
  "language_info": {
   "codemirror_mode": {
    "name": "ipython",
    "version": 3
   },
   "file_extension": ".py",
   "mimetype": "text/x-python",
   "name": "python",
   "nbconvert_exporter": "python",
   "pygments_lexer": "ipython3",
   "version": "3.7.4"
  }
 },
 "nbformat": 4,
 "nbformat_minor": 2
}
