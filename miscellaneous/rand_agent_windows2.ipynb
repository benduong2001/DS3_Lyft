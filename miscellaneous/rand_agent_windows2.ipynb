{
 "cells": [
  {
   "cell_type": "markdown",
   "metadata": {},
   "source": [
    "Tracks out the consecutive sequences (the windows in which all of the track ids in one frame is bijective to the track ids in the next frame).\n",
    "\n",
    "To filter by agent type car, set variable FILTER_AGENT_TYPES as True"
   ]
  },
  {
   "cell_type": "code",
   "execution_count": null,
   "metadata": {},
   "outputs": [],
   "source": [
    "import pandas as pd\n",
    "import numpy as np\n",
    "import matplotlib.pyplot as plt"
   ]
  },
  {
   "cell_type": "code",
   "execution_count": null,
   "metadata": {},
   "outputs": [],
   "source": [
    "folderpath = \"*\"\n",
    "file = folderpath + \"\\\\lyftlong\\\\rand_agents_table0.csv\"\n",
    "at0 = pd.read_csv(file)\n",
    "file = folderpath + \"\\\\lyftlong\\\\rand_frames_table1.csv\"\n",
    "ft0 = pd.read_csv(file)\n",
    "file = folderpath +  \"\\\\lyftlong\\\\rand_scenes_table1.csv\"\n",
    "st0 = pd.read_csv(file)"
   ]
  },
  {
   "cell_type": "code",
   "execution_count": null,
   "metadata": {},
   "outputs": [],
   "source": [
    "at = at0\n",
    "ft = ft0\n",
    "st = st0"
   ]
  },
  {
   "cell_type": "code",
   "execution_count": null,
   "metadata": {},
   "outputs": [],
   "source": [
    "# preliminary Agent table cleaning"
   ]
  },
  {
   "cell_type": "code",
   "execution_count": null,
   "metadata": {},
   "outputs": [],
   "source": [
    "at = at.merge(ft[['frame_index', 'scene_index']], on='frame_index')"
   ]
  },
  {
   "cell_type": "code",
   "execution_count": null,
   "metadata": {},
   "outputs": [],
   "source": [
    "def filter_agent_types(at):\n",
    "    KNOWN_LABELS = ['PERCEPTION_LABEL_CAR', 'PERCEPTION_LABEL_PEDESTRIAN', 'PERCEPTION_LABEL_CYCLIST', 'PERCEPTION_LABEL_UNKNOWN']\n",
    "    atkl = at[KNOWN_LABELS]\n",
    "\n",
    "    atklarr = atkl.to_numpy()\n",
    "    for x in range(len(atkl)):\n",
    "        row = atklarr[x]\n",
    "        new_row = np.zeros((4,))\n",
    "        new_row[np.argmax(row)] = 1\n",
    "        atklarr[x] = new_row\n",
    "\n",
    "    # rounds all predictions in known labels to be either 1 or 0, since some are decimals\n",
    "\n",
    "    for label, column in zip(KNOWN_LABELS, atklarr.T):\n",
    "        at[label] = column\n",
    "\n",
    "    at = at[at.PERCEPTION_LABEL_CAR == 1]\n",
    "    return at\n",
    "FILTER_AGENT_TYPES = True\n",
    "\n",
    "if FILTER_AGENT_TYPES:\n",
    "    at = filter_agent_types(at)\n",
    "else:\n",
    "    at = at"
   ]
  },
  {
   "cell_type": "code",
   "execution_count": null,
   "metadata": {},
   "outputs": [],
   "source": [
    "at_scenes = pd.unique(at['scene_index'])\n",
    "at_scenes"
   ]
  },
  {
   "cell_type": "code",
   "execution_count": null,
   "metadata": {},
   "outputs": [],
   "source": [
    "si = 10"
   ]
  },
  {
   "cell_type": "code",
   "execution_count": null,
   "metadata": {},
   "outputs": [],
   "source": [
    "at2 = at[['track_id', 'frame_index', 'centroid_x', 'scene_index']]\n",
    "at2 = at2.sort_values(['frame_index', 'track_id'])\n",
    "at2"
   ]
  },
  {
   "cell_type": "code",
   "execution_count": null,
   "metadata": {},
   "outputs": [],
   "source": [
    "def windows(scene_index: int):\n",
    "    ats1 = at2[at2.scene_index == scene_index]\n",
    "    track_ids_set = list(ats1.groupby('frame_index')['track_id'].apply(list))\n",
    "    return track_ids_set\n",
    "track_ids_set = windows(7827)\n",
    "track_ids_set"
   ]
  },
  {
   "cell_type": "code",
   "execution_count": null,
   "metadata": {},
   "outputs": [],
   "source": [
    "def consecutive_windows(track_ids_set):\n",
    "    intervals = []\n",
    "    interval = []\n",
    "    for i in range(1, len(track_ids_set)):\n",
    "        f1 = track_ids_set[i]\n",
    "        f0 = track_ids_set[i - 1]\n",
    "        if set(f1) == set(f0): # if overlap occurs\n",
    "            interval.append(i - 1)\n",
    "        else: # if no overlap\n",
    "            if interval == []: # if interval is empty, carry on\n",
    "                pass\n",
    "            else: # if interval isn't empty, we have found end of interval \n",
    "                interval.append(i - 1) # close it off\n",
    "                intervals.append(interval) # put the interval in the intervals stack\n",
    "                interval = [] # clear the interval\n",
    "    return intervals\n",
    "def partial_consecutive_windows(track_ids_set):\n",
    "    intervals = []\n",
    "    interval = []\n",
    "    for i in range(1, len(track_ids_set)):\n",
    "        f1 = track_ids_set[i]\n",
    "        f0 = track_ids_set[i - 1]\n",
    "        if set(f1) == set(f0): # if overlap occurs\n",
    "            interval.append(i - 1)\n",
    "        else: # if no overlap\n",
    "            if interval == []: # if interval is empty, carry on\n",
    "                pass\n",
    "            else: # if interval isn't empty, we have found end of interval \n",
    "                interval.append(i - 1) # close it off\n",
    "                intervals.append(interval) # put the interval in the intervals stack\n",
    "                interval = [] # clear the interval\n",
    "    return intervals"
   ]
  },
  {
   "cell_type": "code",
   "execution_count": null,
   "metadata": {},
   "outputs": [],
   "source": [
    "all_windows = []\n",
    "for i in range(0, len(at_scenes)):\n",
    "    x = list(at_scenes)[i]\n",
    "    if i%1 == 0:\n",
    "        print(\"{0} of {1}\".format(i, 100))\n",
    "        try:\n",
    "            f = open(\"lyft_window1.txt\", \"x\")\n",
    "            f.write(str(all_windows))\n",
    "            f.close()\n",
    "        except:\n",
    "            f = open(\"lyft_window1.txt\", \"w\")\n",
    "            f.write(str(all_windows))\n",
    "            f.close()            \n",
    "    track_ids_set = windows(x)\n",
    "    window = consecutive_windows(track_ids_set)\n",
    "    all_windows.append(window)"
   ]
  },
  {
   "cell_type": "code",
   "execution_count": null,
   "metadata": {},
   "outputs": [],
   "source": [
    "all_windows"
   ]
  },
  {
   "cell_type": "code",
   "execution_count": null,
   "metadata": {},
   "outputs": [],
   "source": [
    "windows_unpacked = [i for x in all_windows for i in x]"
   ]
  },
  {
   "cell_type": "code",
   "execution_count": null,
   "metadata": {},
   "outputs": [],
   "source": [
    "lengths = [len(seq) for seq in windows_unpacked]"
   ]
  },
  {
   "cell_type": "code",
   "execution_count": null,
   "metadata": {},
   "outputs": [],
   "source": [
    "np.median(lengths)"
   ]
  },
  {
   "cell_type": "code",
   "execution_count": null,
   "metadata": {},
   "outputs": [],
   "source": [
    "np.sum(lengths)"
   ]
  },
  {
   "cell_type": "code",
   "execution_count": null,
   "metadata": {},
   "outputs": [],
   "source": [
    "len(lengths)"
   ]
  },
  {
   "cell_type": "code",
   "execution_count": null,
   "metadata": {},
   "outputs": [],
   "source": []
  }
 ],
 "metadata": {
  "kernelspec": {
   "display_name": "Python 3",
   "language": "python",
   "name": "python3"
  },
  "language_info": {
   "codemirror_mode": {
    "name": "ipython",
    "version": 3
   },
   "file_extension": ".py",
   "mimetype": "text/x-python",
   "name": "python",
   "nbconvert_exporter": "python",
   "pygments_lexer": "ipython3",
   "version": "3.7.4"
  }
 },
 "nbformat": 4,
 "nbformat_minor": 2
}
