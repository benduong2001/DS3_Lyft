{
 "cells": [
  {
   "cell_type": "code",
   "execution_count": 1,
   "metadata": {},
   "outputs": [],
   "source": [
    "%matplotlib inline\n",
    "import math as math\n",
    "import pandas as pd\n",
    "import numpy as np\n",
    "get_ipython().run_line_magic('matplotlib', 'inline')\n",
    "import matplotlib.pyplot as plt"
   ]
  },
  {
   "cell_type": "code",
   "execution_count": 2,
   "metadata": {},
   "outputs": [],
   "source": [
    "folderpath = \"*\"\n",
    "folderpath = \"C:\\\\Users\\\\Benson\\\\Desktop\"\n",
    "file = folderpath + \"\\\\lyftlong\\\\rand_agents_table0.csv\"\n",
    "at = pd.read_csv(file)\n",
    "file = folderpath + \"\\\\lyftlong\\\\rand_frames_table1.csv\"\n",
    "ft = pd.read_csv(file)\n",
    "file = folderpath +  \"\\\\lyftlong\\\\rand_scenes_table1.csv\"\n",
    "st = pd.read_csv(file)"
   ]
  },
  {
   "cell_type": "code",
   "execution_count": 3,
   "metadata": {},
   "outputs": [
    {
     "data": {
      "text/html": [
       "<div>\n",
       "<style scoped>\n",
       "    .dataframe tbody tr th:only-of-type {\n",
       "        vertical-align: middle;\n",
       "    }\n",
       "\n",
       "    .dataframe tbody tr th {\n",
       "        vertical-align: top;\n",
       "    }\n",
       "\n",
       "    .dataframe thead th {\n",
       "        text-align: right;\n",
       "    }\n",
       "</style>\n",
       "<table border=\"1\" class=\"dataframe\">\n",
       "  <thead>\n",
       "    <tr style=\"text-align: right;\">\n",
       "      <th></th>\n",
       "      <th>timestamp</th>\n",
       "      <th>agent_index_interval_start</th>\n",
       "      <th>agent_index_interval_end</th>\n",
       "      <th>ego_translation_x</th>\n",
       "      <th>ego_translation_y</th>\n",
       "      <th>ego_translation_z</th>\n",
       "      <th>traffic_lights_start</th>\n",
       "      <th>traffic_lights_end</th>\n",
       "      <th>ego_rotation_xx</th>\n",
       "      <th>ego_rotation_xy</th>\n",
       "      <th>ego_rotation_xz</th>\n",
       "      <th>ego_rotation_yx</th>\n",
       "      <th>ego_rotation_yy</th>\n",
       "      <th>ego_rotation_yz</th>\n",
       "      <th>ego_rotation_zx</th>\n",
       "      <th>ego_rotation_zy</th>\n",
       "      <th>ego_rotation_zz</th>\n",
       "      <th>frame_index</th>\n",
       "      <th>scene_index</th>\n",
       "      <th>Mean Distance from Agents</th>\n",
       "    </tr>\n",
       "  </thead>\n",
       "  <tbody>\n",
       "    <tr>\n",
       "      <td>0</td>\n",
       "      <td>1578676015902123546</td>\n",
       "      <td>154248685</td>\n",
       "      <td>154248721</td>\n",
       "      <td>687.888733</td>\n",
       "      <td>-2161.516602</td>\n",
       "      <td>290.123901</td>\n",
       "      <td>20224866</td>\n",
       "      <td>20224875</td>\n",
       "      <td>-0.548663</td>\n",
       "      <td>0.829618</td>\n",
       "      <td>-0.103456</td>\n",
       "      <td>-0.831995</td>\n",
       "      <td>-0.553972</td>\n",
       "      <td>-0.029972</td>\n",
       "      <td>-0.082177</td>\n",
       "      <td>0.069631</td>\n",
       "      <td>0.994182</td>\n",
       "      <td>1944117</td>\n",
       "      <td>7827</td>\n",
       "      <td>29.661129</td>\n",
       "    </tr>\n",
       "    <tr>\n",
       "      <td>1</td>\n",
       "      <td>1578676016002223866</td>\n",
       "      <td>154248721</td>\n",
       "      <td>154248768</td>\n",
       "      <td>687.285095</td>\n",
       "      <td>-2162.442627</td>\n",
       "      <td>290.042358</td>\n",
       "      <td>20224875</td>\n",
       "      <td>20224884</td>\n",
       "      <td>-0.548607</td>\n",
       "      <td>0.829808</td>\n",
       "      <td>-0.102218</td>\n",
       "      <td>-0.832065</td>\n",
       "      <td>-0.553844</td>\n",
       "      <td>-0.030399</td>\n",
       "      <td>-0.081839</td>\n",
       "      <td>0.068375</td>\n",
       "      <td>0.994297</td>\n",
       "      <td>1944118</td>\n",
       "      <td>7827</td>\n",
       "      <td>29.767024</td>\n",
       "    </tr>\n",
       "    <tr>\n",
       "      <td>2</td>\n",
       "      <td>1578676016102365186</td>\n",
       "      <td>154248768</td>\n",
       "      <td>154248816</td>\n",
       "      <td>686.678772</td>\n",
       "      <td>-2163.348145</td>\n",
       "      <td>289.963165</td>\n",
       "      <td>20224884</td>\n",
       "      <td>20224893</td>\n",
       "      <td>-0.548695</td>\n",
       "      <td>0.830226</td>\n",
       "      <td>-0.098282</td>\n",
       "      <td>-0.831977</td>\n",
       "      <td>-0.553805</td>\n",
       "      <td>-0.033390</td>\n",
       "      <td>-0.082151</td>\n",
       "      <td>0.063448</td>\n",
       "      <td>0.994598</td>\n",
       "      <td>1944119</td>\n",
       "      <td>7827</td>\n",
       "      <td>29.749838</td>\n",
       "    </tr>\n",
       "    <tr>\n",
       "      <td>3</td>\n",
       "      <td>1578676016202518106</td>\n",
       "      <td>154248816</td>\n",
       "      <td>154248871</td>\n",
       "      <td>686.072205</td>\n",
       "      <td>-2164.247314</td>\n",
       "      <td>289.893311</td>\n",
       "      <td>20224893</td>\n",
       "      <td>20224902</td>\n",
       "      <td>-0.549262</td>\n",
       "      <td>0.830413</td>\n",
       "      <td>-0.093408</td>\n",
       "      <td>-0.831583</td>\n",
       "      <td>-0.554178</td>\n",
       "      <td>-0.036822</td>\n",
       "      <td>-0.082342</td>\n",
       "      <td>0.057452</td>\n",
       "      <td>0.994947</td>\n",
       "      <td>1944120</td>\n",
       "      <td>7827</td>\n",
       "      <td>29.634852</td>\n",
       "    </tr>\n",
       "    <tr>\n",
       "      <td>4</td>\n",
       "      <td>1578676016302630426</td>\n",
       "      <td>154248871</td>\n",
       "      <td>154248930</td>\n",
       "      <td>685.482300</td>\n",
       "      <td>-2165.144531</td>\n",
       "      <td>289.814209</td>\n",
       "      <td>20224902</td>\n",
       "      <td>20224911</td>\n",
       "      <td>-0.548979</td>\n",
       "      <td>0.830953</td>\n",
       "      <td>-0.090218</td>\n",
       "      <td>-0.831735</td>\n",
       "      <td>-0.553773</td>\n",
       "      <td>-0.039398</td>\n",
       "      <td>-0.082698</td>\n",
       "      <td>0.053408</td>\n",
       "      <td>0.995143</td>\n",
       "      <td>1944121</td>\n",
       "      <td>7827</td>\n",
       "      <td>28.864490</td>\n",
       "    </tr>\n",
       "    <tr>\n",
       "      <td>...</td>\n",
       "      <td>...</td>\n",
       "      <td>...</td>\n",
       "      <td>...</td>\n",
       "      <td>...</td>\n",
       "      <td>...</td>\n",
       "      <td>...</td>\n",
       "      <td>...</td>\n",
       "      <td>...</td>\n",
       "      <td>...</td>\n",
       "      <td>...</td>\n",
       "      <td>...</td>\n",
       "      <td>...</td>\n",
       "      <td>...</td>\n",
       "      <td>...</td>\n",
       "      <td>...</td>\n",
       "      <td>...</td>\n",
       "      <td>...</td>\n",
       "      <td>...</td>\n",
       "      <td>...</td>\n",
       "      <td>...</td>\n",
       "    </tr>\n",
       "    <tr>\n",
       "      <td>24832</td>\n",
       "      <td>1579625288902594036</td>\n",
       "      <td>303694263</td>\n",
       "      <td>303694319</td>\n",
       "      <td>-543.666443</td>\n",
       "      <td>903.855469</td>\n",
       "      <td>271.994934</td>\n",
       "      <td>37294617</td>\n",
       "      <td>37294626</td>\n",
       "      <td>0.681983</td>\n",
       "      <td>0.730755</td>\n",
       "      <td>-0.029941</td>\n",
       "      <td>-0.731367</td>\n",
       "      <td>0.681338</td>\n",
       "      <td>-0.029678</td>\n",
       "      <td>-0.001287</td>\n",
       "      <td>0.042138</td>\n",
       "      <td>0.999111</td>\n",
       "      <td>3831696</td>\n",
       "      <td>15427</td>\n",
       "      <td>41.851427</td>\n",
       "    </tr>\n",
       "    <tr>\n",
       "      <td>24833</td>\n",
       "      <td>1579625289002634956</td>\n",
       "      <td>303694319</td>\n",
       "      <td>303694373</td>\n",
       "      <td>-543.666443</td>\n",
       "      <td>903.855469</td>\n",
       "      <td>271.994934</td>\n",
       "      <td>37294626</td>\n",
       "      <td>37294635</td>\n",
       "      <td>0.681983</td>\n",
       "      <td>0.730755</td>\n",
       "      <td>-0.029941</td>\n",
       "      <td>-0.731367</td>\n",
       "      <td>0.681338</td>\n",
       "      <td>-0.029678</td>\n",
       "      <td>-0.001287</td>\n",
       "      <td>0.042138</td>\n",
       "      <td>0.999111</td>\n",
       "      <td>3831697</td>\n",
       "      <td>15427</td>\n",
       "      <td>43.580053</td>\n",
       "    </tr>\n",
       "    <tr>\n",
       "      <td>24834</td>\n",
       "      <td>1579625289102594276</td>\n",
       "      <td>303694373</td>\n",
       "      <td>303694427</td>\n",
       "      <td>-543.666443</td>\n",
       "      <td>903.855469</td>\n",
       "      <td>271.994934</td>\n",
       "      <td>37294635</td>\n",
       "      <td>37294644</td>\n",
       "      <td>0.681983</td>\n",
       "      <td>0.730755</td>\n",
       "      <td>-0.029941</td>\n",
       "      <td>-0.731367</td>\n",
       "      <td>0.681338</td>\n",
       "      <td>-0.029678</td>\n",
       "      <td>-0.001287</td>\n",
       "      <td>0.042138</td>\n",
       "      <td>0.999111</td>\n",
       "      <td>3831698</td>\n",
       "      <td>15427</td>\n",
       "      <td>42.984665</td>\n",
       "    </tr>\n",
       "    <tr>\n",
       "      <td>24835</td>\n",
       "      <td>1579625289202495596</td>\n",
       "      <td>303694427</td>\n",
       "      <td>303694484</td>\n",
       "      <td>-543.666443</td>\n",
       "      <td>903.855469</td>\n",
       "      <td>271.994934</td>\n",
       "      <td>37294644</td>\n",
       "      <td>37294653</td>\n",
       "      <td>0.681983</td>\n",
       "      <td>0.730755</td>\n",
       "      <td>-0.029941</td>\n",
       "      <td>-0.731367</td>\n",
       "      <td>0.681338</td>\n",
       "      <td>-0.029678</td>\n",
       "      <td>-0.001287</td>\n",
       "      <td>0.042138</td>\n",
       "      <td>0.999111</td>\n",
       "      <td>3831699</td>\n",
       "      <td>15427</td>\n",
       "      <td>44.383615</td>\n",
       "    </tr>\n",
       "    <tr>\n",
       "      <td>24836</td>\n",
       "      <td>1579625289302397516</td>\n",
       "      <td>303694484</td>\n",
       "      <td>303694537</td>\n",
       "      <td>-543.666443</td>\n",
       "      <td>903.855469</td>\n",
       "      <td>271.994934</td>\n",
       "      <td>37294653</td>\n",
       "      <td>37294662</td>\n",
       "      <td>0.681983</td>\n",
       "      <td>0.730755</td>\n",
       "      <td>-0.029941</td>\n",
       "      <td>-0.731367</td>\n",
       "      <td>0.681338</td>\n",
       "      <td>-0.029678</td>\n",
       "      <td>-0.001287</td>\n",
       "      <td>0.042138</td>\n",
       "      <td>0.999111</td>\n",
       "      <td>3831700</td>\n",
       "      <td>15427</td>\n",
       "      <td>41.813361</td>\n",
       "    </tr>\n",
       "  </tbody>\n",
       "</table>\n",
       "<p>24837 rows × 20 columns</p>\n",
       "</div>"
      ],
      "text/plain": [
       "                 timestamp  agent_index_interval_start  \\\n",
       "0      1578676015902123546                   154248685   \n",
       "1      1578676016002223866                   154248721   \n",
       "2      1578676016102365186                   154248768   \n",
       "3      1578676016202518106                   154248816   \n",
       "4      1578676016302630426                   154248871   \n",
       "...                    ...                         ...   \n",
       "24832  1579625288902594036                   303694263   \n",
       "24833  1579625289002634956                   303694319   \n",
       "24834  1579625289102594276                   303694373   \n",
       "24835  1579625289202495596                   303694427   \n",
       "24836  1579625289302397516                   303694484   \n",
       "\n",
       "       agent_index_interval_end  ego_translation_x  ego_translation_y  \\\n",
       "0                     154248721         687.888733       -2161.516602   \n",
       "1                     154248768         687.285095       -2162.442627   \n",
       "2                     154248816         686.678772       -2163.348145   \n",
       "3                     154248871         686.072205       -2164.247314   \n",
       "4                     154248930         685.482300       -2165.144531   \n",
       "...                         ...                ...                ...   \n",
       "24832                 303694319        -543.666443         903.855469   \n",
       "24833                 303694373        -543.666443         903.855469   \n",
       "24834                 303694427        -543.666443         903.855469   \n",
       "24835                 303694484        -543.666443         903.855469   \n",
       "24836                 303694537        -543.666443         903.855469   \n",
       "\n",
       "       ego_translation_z  traffic_lights_start  traffic_lights_end  \\\n",
       "0             290.123901              20224866            20224875   \n",
       "1             290.042358              20224875            20224884   \n",
       "2             289.963165              20224884            20224893   \n",
       "3             289.893311              20224893            20224902   \n",
       "4             289.814209              20224902            20224911   \n",
       "...                  ...                   ...                 ...   \n",
       "24832         271.994934              37294617            37294626   \n",
       "24833         271.994934              37294626            37294635   \n",
       "24834         271.994934              37294635            37294644   \n",
       "24835         271.994934              37294644            37294653   \n",
       "24836         271.994934              37294653            37294662   \n",
       "\n",
       "       ego_rotation_xx  ego_rotation_xy  ego_rotation_xz  ego_rotation_yx  \\\n",
       "0            -0.548663         0.829618        -0.103456        -0.831995   \n",
       "1            -0.548607         0.829808        -0.102218        -0.832065   \n",
       "2            -0.548695         0.830226        -0.098282        -0.831977   \n",
       "3            -0.549262         0.830413        -0.093408        -0.831583   \n",
       "4            -0.548979         0.830953        -0.090218        -0.831735   \n",
       "...                ...              ...              ...              ...   \n",
       "24832         0.681983         0.730755        -0.029941        -0.731367   \n",
       "24833         0.681983         0.730755        -0.029941        -0.731367   \n",
       "24834         0.681983         0.730755        -0.029941        -0.731367   \n",
       "24835         0.681983         0.730755        -0.029941        -0.731367   \n",
       "24836         0.681983         0.730755        -0.029941        -0.731367   \n",
       "\n",
       "       ego_rotation_yy  ego_rotation_yz  ego_rotation_zx  ego_rotation_zy  \\\n",
       "0            -0.553972        -0.029972        -0.082177         0.069631   \n",
       "1            -0.553844        -0.030399        -0.081839         0.068375   \n",
       "2            -0.553805        -0.033390        -0.082151         0.063448   \n",
       "3            -0.554178        -0.036822        -0.082342         0.057452   \n",
       "4            -0.553773        -0.039398        -0.082698         0.053408   \n",
       "...                ...              ...              ...              ...   \n",
       "24832         0.681338        -0.029678        -0.001287         0.042138   \n",
       "24833         0.681338        -0.029678        -0.001287         0.042138   \n",
       "24834         0.681338        -0.029678        -0.001287         0.042138   \n",
       "24835         0.681338        -0.029678        -0.001287         0.042138   \n",
       "24836         0.681338        -0.029678        -0.001287         0.042138   \n",
       "\n",
       "       ego_rotation_zz  frame_index  scene_index  Mean Distance from Agents  \n",
       "0             0.994182      1944117         7827                  29.661129  \n",
       "1             0.994297      1944118         7827                  29.767024  \n",
       "2             0.994598      1944119         7827                  29.749838  \n",
       "3             0.994947      1944120         7827                  29.634852  \n",
       "4             0.995143      1944121         7827                  28.864490  \n",
       "...                ...          ...          ...                        ...  \n",
       "24832         0.999111      3831696        15427                  41.851427  \n",
       "24833         0.999111      3831697        15427                  43.580053  \n",
       "24834         0.999111      3831698        15427                  42.984665  \n",
       "24835         0.999111      3831699        15427                  44.383615  \n",
       "24836         0.999111      3831700        15427                  41.813361  \n",
       "\n",
       "[24837 rows x 20 columns]"
      ]
     },
     "execution_count": 3,
     "metadata": {},
     "output_type": "execute_result"
    }
   ],
   "source": [
    "ft"
   ]
  },
  {
   "cell_type": "code",
   "execution_count": 36,
   "metadata": {},
   "outputs": [
    {
     "name": "stderr",
     "output_type": "stream",
     "text": [
      "c:\\users\\benson\\appdata\\local\\programs\\python\\python37\\lib\\site-packages\\ipykernel_launcher.py:3: SettingWithCopyWarning: \n",
      "A value is trying to be set on a copy of a slice from a DataFrame.\n",
      "Try using .loc[row_indexer,col_indexer] = value instead\n",
      "\n",
      "See the caveats in the documentation: http://pandas.pydata.org/pandas-docs/stable/user_guide/indexing.html#returning-a-view-versus-a-copy\n",
      "  This is separate from the ipykernel package so we can avoid doing imports until\n"
     ]
    }
   ],
   "source": [
    "frame_idx = np.random.choice(ft['frame_index'])\n",
    "at0 = at[at.frame_index == frame_idx]\n",
    "at0['stopped'] = (at0['velocity_x']==0).astype(int) + (at0['velocity_y']==0).astype(int)\n",
    "# removing any vectors that are zero (when the agents are stopped)\n",
    "at0 = at0[at0.stopped != 2]\n",
    "at0 = at0[['centroid_x', 'centroid_y', 'velocity_x', 'velocity_y']]"
   ]
  },
  {
   "cell_type": "code",
   "execution_count": 5,
   "metadata": {},
   "outputs": [],
   "source": [
    "ft0 = ft[ft.frame_index == 3831696]\n",
    "ft0 = ft0[['ego_translation_x', 'ego_translation_y']]"
   ]
  },
  {
   "cell_type": "code",
   "execution_count": 6,
   "metadata": {
    "scrolled": true
   },
   "outputs": [
    {
     "data": {
      "text/html": [
       "<div>\n",
       "<style scoped>\n",
       "    .dataframe tbody tr th:only-of-type {\n",
       "        vertical-align: middle;\n",
       "    }\n",
       "\n",
       "    .dataframe tbody tr th {\n",
       "        vertical-align: top;\n",
       "    }\n",
       "\n",
       "    .dataframe thead th {\n",
       "        text-align: right;\n",
       "    }\n",
       "</style>\n",
       "<table border=\"1\" class=\"dataframe\">\n",
       "  <thead>\n",
       "    <tr style=\"text-align: right;\">\n",
       "      <th></th>\n",
       "      <th>ego_translation_x</th>\n",
       "      <th>ego_translation_y</th>\n",
       "    </tr>\n",
       "  </thead>\n",
       "  <tbody>\n",
       "    <tr>\n",
       "      <td>24832</td>\n",
       "      <td>-543.666443</td>\n",
       "      <td>903.855469</td>\n",
       "    </tr>\n",
       "  </tbody>\n",
       "</table>\n",
       "</div>"
      ],
      "text/plain": [
       "       ego_translation_x  ego_translation_y\n",
       "24832        -543.666443         903.855469"
      ]
     },
     "execution_count": 6,
     "metadata": {},
     "output_type": "execute_result"
    }
   ],
   "source": [
    "ft0"
   ]
  },
  {
   "cell_type": "code",
   "execution_count": 15,
   "metadata": {
    "scrolled": true
   },
   "outputs": [],
   "source": [
    "at0['centroid_x'] = at0['centroid_x'].values - ft0['ego_translation_x'].values[0]"
   ]
  },
  {
   "cell_type": "code",
   "execution_count": 16,
   "metadata": {
    "scrolled": true
   },
   "outputs": [],
   "source": [
    "at0['centroid_y'] = at0['centroid_y'].values - ft0['ego_translation_y'].values[0]"
   ]
  },
  {
   "cell_type": "code",
   "execution_count": 17,
   "metadata": {},
   "outputs": [],
   "source": [
    "Inptv = at0[['centroid_x', 'centroid_y']]\n",
    "Realv = at0[['velocity_x', 'velocity_y']]"
   ]
  },
  {
   "cell_type": "code",
   "execution_count": 18,
   "metadata": {},
   "outputs": [],
   "source": [
    "from sklearn import linear_model"
   ]
  },
  {
   "cell_type": "code",
   "execution_count": 19,
   "metadata": {
    "scrolled": true
   },
   "outputs": [],
   "source": [
    "Yregr = linear_model.LinearRegression()\n",
    "Xregr = linear_model.LinearRegression()"
   ]
  },
  {
   "cell_type": "code",
   "execution_count": 20,
   "metadata": {},
   "outputs": [
    {
     "data": {
      "text/plain": [
       "LinearRegression()"
      ]
     },
     "execution_count": 20,
     "metadata": {},
     "output_type": "execute_result"
    }
   ],
   "source": [
    "Xregr.fit(Inptv, Realv['velocity_x'])\n",
    "Yregr.fit(Inptv, Realv['velocity_y'])"
   ]
  },
  {
   "cell_type": "code",
   "execution_count": 21,
   "metadata": {},
   "outputs": [],
   "source": [
    "coefs = *Xregr.coef_,  *Yregr.coef_"
   ]
  },
  {
   "cell_type": "code",
   "execution_count": 22,
   "metadata": {},
   "outputs": [],
   "source": [
    "intcpts = Xregr.intercept_, Yregr.intercept_"
   ]
  },
  {
   "cell_type": "code",
   "execution_count": 23,
   "metadata": {},
   "outputs": [],
   "source": [
    "f1x, f1y, f2x, f2y = coefs\n",
    "\n",
    "f1b, f2b = intcpts"
   ]
  },
  {
   "cell_type": "code",
   "execution_count": 25,
   "metadata": {},
   "outputs": [],
   "source": [
    "at0cx = at0['centroid_x'].values\n",
    "at0cy = at0['centroid_y'].values"
   ]
  },
  {
   "cell_type": "code",
   "execution_count": 26,
   "metadata": {},
   "outputs": [],
   "source": [
    "F1 = (f1x*at0cx + f1y*at0cy + f1b), \n",
    "F2 = (f2x*at0cx + f2y*at0cy + f2b), "
   ]
  },
  {
   "cell_type": "code",
   "execution_count": 27,
   "metadata": {},
   "outputs": [
    {
     "data": {
      "text/plain": [
       "((array([-0.67201484, -0.33162324, -0.45188387, -0.5804622 , -0.88962416,\n",
       "         -0.50834059, -1.40998189, -1.06086563, -0.4407211 , -1.14964302,\n",
       "          0.36467999, -1.38886562, -0.83110025, -2.77427159, -0.38970668,\n",
       "         -1.88722569, -1.13876036,  0.45835962, -1.36801036,  1.17888834,\n",
       "         -1.23818902, -0.78808642,  0.37197941, -0.61298856, -0.24057526,\n",
       "         -0.26640152, -0.16938126,  0.01502251, -2.29169611, -1.67657874,\n",
       "          1.29407367, -0.27694735]),),)"
      ]
     },
     "execution_count": 27,
     "metadata": {},
     "output_type": "execute_result"
    }
   ],
   "source": [
    "F1, "
   ]
  },
  {
   "cell_type": "code",
   "execution_count": 28,
   "metadata": {},
   "outputs": [
    {
     "data": {
      "text/plain": [
       "array([[ 1.68501083e-02],\n",
       "       [ 1.43045178e-02],\n",
       "       [ 8.94586369e-03],\n",
       "       [-3.43647823e-02],\n",
       "       [ 5.31947434e-01],\n",
       "       [ 4.68358368e-01],\n",
       "       [ 2.55236119e-01],\n",
       "       [ 1.09530032e+00],\n",
       "       [ 4.61362553e+00],\n",
       "       [ 1.10648632e+00],\n",
       "       [-2.12470412e+00],\n",
       "       [ 2.43845820e+00],\n",
       "       [ 4.73296672e-01],\n",
       "       [-1.14863234e+01],\n",
       "       [ 5.96570730e+00],\n",
       "       [-1.03999958e+01],\n",
       "       [-5.99518061e+00],\n",
       "       [ 3.13551712e+00],\n",
       "       [ 5.92939425e+00],\n",
       "       [-2.59612083e+00],\n",
       "       [-9.23481655e+00],\n",
       "       [-3.58436513e+00],\n",
       "       [-3.41734743e+00],\n",
       "       [-3.58374643e+00],\n",
       "       [-1.31781295e-01],\n",
       "       [ 6.22597694e+00],\n",
       "       [ 2.71854949e+00],\n",
       "       [ 2.58021623e-01],\n",
       "       [ 2.39863086e+00],\n",
       "       [ 1.21186721e+00],\n",
       "       [-3.46532321e+00],\n",
       "       [-3.96334648e+00]])"
      ]
     },
     "execution_count": 28,
     "metadata": {},
     "output_type": "execute_result"
    }
   ],
   "source": [
    "Realv0 = Realv[['velocity_x']].values\n",
    "Realv0"
   ]
  },
  {
   "cell_type": "code",
   "execution_count": 29,
   "metadata": {},
   "outputs": [
    {
     "data": {
      "text/plain": [
       "array([ 1.68501083e-02,  1.43045178e-02,  8.94586369e-03, -3.43647823e-02,\n",
       "        5.31947434e-01,  4.68358368e-01,  2.55236119e-01,  1.09530032e+00,\n",
       "        4.61362553e+00,  1.10648632e+00, -2.12470412e+00,  2.43845820e+00,\n",
       "        4.73296672e-01, -1.14863234e+01,  5.96570730e+00, -1.03999958e+01,\n",
       "       -5.99518061e+00,  3.13551712e+00,  5.92939425e+00, -2.59612083e+00,\n",
       "       -9.23481655e+00, -3.58436513e+00, -3.41734743e+00, -3.58374643e+00,\n",
       "       -1.31781295e-01,  6.22597694e+00,  2.71854949e+00,  2.58021623e-01,\n",
       "        2.39863086e+00,  1.21186721e+00, -3.46532321e+00, -3.96334648e+00])"
      ]
     },
     "execution_count": 29,
     "metadata": {},
     "output_type": "execute_result"
    }
   ],
   "source": [
    "Realv0.reshape((len(Realv0)))"
   ]
  },
  {
   "cell_type": "code",
   "execution_count": 34,
   "metadata": {},
   "outputs": [
    {
     "data": {
      "text/plain": [
       "0.2523762600927606"
      ]
     },
     "execution_count": 34,
     "metadata": {},
     "output_type": "execute_result"
    }
   ],
   "source": [
    "from scipy import spatial\n",
    "1 - spatial.distance.cosine(F1, Realv0)"
   ]
  },
  {
   "cell_type": "code",
   "execution_count": null,
   "metadata": {},
   "outputs": [],
   "source": []
  }
 ],
 "metadata": {
  "kernelspec": {
   "display_name": "Python 3",
   "language": "python",
   "name": "python3"
  },
  "language_info": {
   "codemirror_mode": {
    "name": "ipython",
    "version": 3
   },
   "file_extension": ".py",
   "mimetype": "text/x-python",
   "name": "python",
   "nbconvert_exporter": "python",
   "pygments_lexer": "ipython3",
   "version": "3.7.4"
  }
 },
 "nbformat": 4,
 "nbformat_minor": 2
}
