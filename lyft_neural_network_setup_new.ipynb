{
 "cells": [
  {
   "cell_type": "code",
   "execution_count": null,
   "metadata": {},
   "outputs": [],
   "source": [
    "import pandas as pd\n",
    "import numpy as np"
   ]
  },
  {
   "cell_type": "code",
   "execution_count": null,
   "metadata": {},
   "outputs": [],
   "source": [
    "agents_df = pd.read_csv('rand_agents_table0.csv')\n",
    "frame_df = pd.read_csv('rand_frames_table1.csv')\n",
    "scene_df = pd.read_csv('rand_scenes_table1.csv')"
   ]
  },
  {
   "cell_type": "code",
   "execution_count": null,
   "metadata": {},
   "outputs": [],
   "source": [
    "agents_df = agents_df.merge(frame_df[['frame_index', 'scene_index']], on='frame_index')\n",
    "agents_df"
   ]
  },
  {
   "cell_type": "code",
   "execution_count": null,
   "metadata": {},
   "outputs": [],
   "source": [
    "\n",
    "agents_df['speed'] = np.sqrt(agents_df['velocity_x']**2 + agents_df['velocity_y']**2) \n",
    "# put speed column before groupby mean\n",
    "agents_df_grouped = agents_df.groupby(['scene_index','track_id'], as_index = False).mean()\n",
    "drop_rows = ['PERCEPTION_LABEL_NOT_SET', 'PERCEPTION_LABEL_DONTCARE', 'PERCEPTION_LABEL_MOTORCYCLIST',\n",
    "             'PERCEPTION_LABEL_ANIMAL']\n",
    "agents_df_grouped = agents_df_grouped.drop(drop_rows, axis=1)\n",
    "agents_df_grouped = agents_df_grouped.drop(agents_df_grouped.columns[12:20], axis=1)\n",
    "# agents_df_grouped['speed'] = np.sqrt(agents_df_grouped['velocity_x']**2 + agents_df_grouped['velocity_y']**2)\n",
    "agents_df_grouped"
   ]
  },
  {
   "cell_type": "code",
   "execution_count": null,
   "metadata": {},
   "outputs": [],
   "source": [
    "unknown = np.array(agents_df_grouped['PERCEPTION_LABEL_UNKNOWN'])\n",
    "car = np.array(agents_df_grouped['PERCEPTION_LABEL_CAR'])\n",
    "cyclist = np.array(agents_df_grouped['PERCEPTION_LABEL_CYCLIST'])\n",
    "ped = np.array(agents_df_grouped['PERCEPTION_LABEL_PEDESTRIAN'])\n",
    "category = np.array([unknown, car, cyclist, ped])\n",
    "category_arr = category.T\n",
    "categories = np.argmax(category_arr, axis=1)\n",
    "agents_df_grouped['PERCEPTION_CATEGORY'] = categories\n",
    "agents_df_grouped"
   ]
  },
  {
   "cell_type": "code",
   "execution_count": null,
   "metadata": {},
   "outputs": [],
   "source": [
    "def find_misrecorded_oversized_track_ids(agents_df_grouped):\n",
    "    \"\"\"\n",
    "        filters the objects/track_ids with unusually big lengths/widths from agents_df_grouped.\n",
    "        In the US, all vehicles cannot have a sidelength that's more than 19.8 meters;\n",
    "        Some cars in the agent_table have mean extents that are higher than that, \n",
    "        so it was likely a data mistake.\n",
    "        \n",
    "        Args:\n",
    "            agents_df_grouped (pd.DataFrame): the agents table AFTER you applied groupby mean, not the original csv agents_df\n",
    "        Returns:\n",
    "            (pd.DataFrame): table with misrecorded, oversized track ids\n",
    "    \"\"\"    \n",
    "    # This means getting all rows with extent_x or extent_y that are longer than 19.8\n",
    "    # \"|\" means or. We have to check both extents x and y because we don't know which one is length or width.\n",
    "    # overbig_track_ids is a table with all of those big vehicles\n",
    "    MAX_LENGTH_VEHICLES = 19.8 # federally mandated maximum length of vehicles in meters\n",
    "    \n",
    "    misrecorded_oversized_track_ids_rows = agents_df_grouped[(agents_df_grouped.extent_x > MAX_LENGTH_VEHICLES) |\n",
    "                                                        (agents_df_grouped.extent_y > MAX_LENGTH_VEHICLES)]\n",
    "    return misrecorded_oversized_track_ids_rows\n",
    "\n",
    "def remove_misrecorded_oversized_track_ids_from_given_table(input_agent_table,\n",
    "                                                            misrecorded_oversized_track_ids_rows):\n",
    "    # Really confusing operation: To be simple, this just removes all instances of the\n",
    "    # misrecorded oversized track_ids from the given agent table\n",
    "    misrecorded_oversized_track_ids_rows = misrecorded_oversized_track_ids_rows[[\"scene_index\", \"track_id\"]]\n",
    "    merged = pd.merge(input_agent_table,misrecorded_oversized_track_ids_rows, how='outer', \n",
    "                      on=[\"scene_index\", \"track_id\"], indicator=True)\n",
    "    left_anti_merge = merged[merged['_merge'] == 'left_only']#.drop(columns=[\"_merged\"])\n",
    "    left_anti_merge = left_anti_merge.drop(columns=[\"_merge\"])\n",
    "    input_agent_table_with_oversized_track_ids_removed = left_anti_merge   \n",
    "    return input_agent_table_with_oversized_track_ids_removed\n"
   ]
  },
  {
   "cell_type": "code",
   "execution_count": null,
   "metadata": {},
   "outputs": [],
   "source": [
    "misrecorded_oversized_track_ids_rows = find_misrecorded_oversized_track_ids(agents_df_grouped)\n",
    "# remove misrecorded_oversized_track_ids from the original agents_df\n",
    "agents_df = remove_misrecorded_oversized_track_ids_from_given_table(agents_df,\n",
    "                                                                    misrecorded_oversized_track_ids_rows)\n",
    "# remove misrecorded_oversized_track_ids from the agents_df_grouped\n",
    "agents_df_grouped = remove_misrecorded_oversized_track_ids_from_given_table(agents_df_grouped,\n",
    "                                                                    misrecorded_oversized_track_ids_rows)"
   ]
  },
  {
   "cell_type": "code",
   "execution_count": null,
   "metadata": {},
   "outputs": [],
   "source": [
    "agents_df"
   ]
  },
  {
   "cell_type": "code",
   "execution_count": null,
   "metadata": {},
   "outputs": [],
   "source": [
    "agents_df_grouped"
   ]
  }
 ],
 "metadata": {
  "kernelspec": {
   "display_name": "Python 3",
   "language": "python",
   "name": "python3"
  },
  "language_info": {
   "codemirror_mode": {
    "name": "ipython",
    "version": 3
   },
   "file_extension": ".py",
   "mimetype": "text/x-python",
   "name": "python",
   "nbconvert_exporter": "python",
   "pygments_lexer": "ipython3",
   "version": "3.7.4"
  }
 },
 "nbformat": 4,
 "nbformat_minor": 4
}
